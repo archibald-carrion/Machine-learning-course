{
  "nbformat": 4,
  "nbformat_minor": 0,
  "metadata": {
    "colab": {
      "provenance": []
    },
    "kernelspec": {
      "name": "python3",
      "display_name": "Python 3"
    },
    "language_info": {
      "name": "python"
    }
  },
  "cells": [
    {
      "cell_type": "markdown",
      "source": [
        "# Práctica de árboles y ajuste de hiperparámetros"
      ],
      "metadata": {
        "id": "Qhkpq4d_de2W"
      }
    },
    {
      "cell_type": "markdown",
      "source": [
        "La siguiente práctica consiste en crear un modelo usando árbol de decisión de los datos indios de diabetes encontrados en Kaggle y utilizados en la práctica anterior."
      ],
      "metadata": {
        "id": "elWet46edmqS"
      }
    },
    {
      "cell_type": "code",
      "source": [
        "# Importación de bibliotecas de funciones\n",
        "import pandas as pd\n",
        "import numpy as np\n",
        "from sklearn.model_selection import train_test_split\n",
        "from sklearn.tree import DecisionTreeClassifier\n",
        "from sklearn.metrics import accuracy_score, classification_report, confusion_matrix\n",
        "from sklearn import tree\n",
        "import matplotlib.pyplot as plt\n",
        "# Etc."
      ],
      "metadata": {
        "id": "OxA_EXJaeEO2"
      },
      "execution_count": null,
      "outputs": []
    },
    {
      "cell_type": "markdown",
      "source": [
        "## 1. Carga y preprocesamiento de datos"
      ],
      "metadata": {
        "id": "fBN_uZeEescL"
      }
    },
    {
      "cell_type": "markdown",
      "source": [
        "Haga la carga y las transformaciones necesarias en los datos.  No olvide dividir los datos en entrenamiento y pruebas.  Use una división 85%-15%."
      ],
      "metadata": {
        "id": "-TIjlZIRevpj"
      }
    },
    {
      "cell_type": "code",
      "source": [],
      "metadata": {
        "id": "0rYzI1q-fMoa"
      },
      "execution_count": null,
      "outputs": []
    },
    {
      "cell_type": "markdown",
      "source": [
        "## 2. Regresión lineal"
      ],
      "metadata": {
        "id": "AVoPz6NKcFCo"
      }
    },
    {
      "cell_type": "markdown",
      "source": [
        "Copie acá una versión de la regresión lineal para los datos indios de diabetes.  Puede ser la versión de LASSO, Ridge o Elastic Net, pero eso sí escoja el mejor modelo que obtuvo."
      ],
      "metadata": {
        "id": "0m1DeHnocK62"
      }
    },
    {
      "cell_type": "code",
      "source": [],
      "metadata": {
        "id": "G1kRUf_oef1t"
      },
      "execution_count": null,
      "outputs": []
    },
    {
      "cell_type": "markdown",
      "source": [
        "## 3. Primer árbol de decisión"
      ],
      "metadata": {
        "id": "8d2JQgyXfQYQ"
      }
    },
    {
      "cell_type": "markdown",
      "source": [
        "### 3.1 Generación del modelo"
      ],
      "metadata": {
        "id": "p312YgTngs6x"
      }
    },
    {
      "cell_type": "markdown",
      "source": [
        "Cree un árbol de decisión con los datos cargados utilizando `DecisionTreeClassifier`. Use los hiperparámetros por defecto de la clase. Obtenga la exactitud, la matriz de confusión y el informe de clasificación con las funciones `accuracy_score`, `confusion_matrix` y `classification_report` respectivamente."
      ],
      "metadata": {
        "id": "tC0ylgFKfXaJ"
      }
    },
    {
      "cell_type": "code",
      "source": [],
      "metadata": {
        "id": "83pBDkzJgZE_"
      },
      "execution_count": null,
      "outputs": []
    },
    {
      "cell_type": "markdown",
      "source": [
        "### 3.2 Visualización del modelo (árbol de decisión)"
      ],
      "metadata": {
        "id": "UZUGIxdAgb8E"
      }
    },
    {
      "cell_type": "markdown",
      "source": [
        "Visualice el árbol usando un código similar a este:\n",
        "\n",
        "```python\n",
        "plt.figure(figsize=(15, 10))\n",
        "tree.plot_tree(dt_classifier,\n",
        "               feature_names=X.columns,\n",
        "               class_names=['No Diabetes', 'Diabetes'],  # Ajuste según las etiquetas\n",
        "               filled=True,\n",
        "               rounded=True)\n",
        "plt.savefig('arbol_decision_diabetes.png')\n",
        "plt.show()\n",
        "```\n",
        "\n"
      ],
      "metadata": {
        "id": "j0R0M-FEg3u8"
      }
    },
    {
      "cell_type": "code",
      "source": [],
      "metadata": {
        "id": "PNHURbEpg7xL"
      },
      "execution_count": null,
      "outputs": []
    },
    {
      "cell_type": "markdown",
      "source": [
        "## 4. Afinamiento de hiperparámetros"
      ],
      "metadata": {
        "id": "9pWQaDf3hOYK"
      }
    },
    {
      "cell_type": "markdown",
      "source": [
        "Para las siguientes técnicas afine los hiperparámetros del modelo usando los siguientes parámetros de la clase `DecisionTreeClassifier`:\n",
        "\n",
        "\n",
        "*   max_depth: None, 5, 10, 15, 20\n",
        "*   min_samples_split: 2, 5, 10\n",
        "*   min_samples_leaf: 1, 2, 4"
      ],
      "metadata": {
        "id": "yO80EBP9hn0D"
      }
    },
    {
      "cell_type": "markdown",
      "source": [
        "### 4.1 *Latin Hypercube Sampling* (LHS)"
      ],
      "metadata": {
        "id": "Z1fOpcs_hVPT"
      }
    },
    {
      "cell_type": "markdown",
      "source": [
        "Utilizando el script en [Latin Hypercube Sampling (LHS) - Integrated Computational Materials Engineering (ICME)](https://www.cavs.msstate.edu/icme/DesignOpt/LHS.php) genere un muestreo en el espacio de búsqueda de los hiperparámetros antes mencionados. Genere 90 muestras. Luego utilice dichas muestras para crear un experimento que permita afinar los hiperparámetros."
      ],
      "metadata": {
        "id": "bGKpWBfPhlYf"
      }
    },
    {
      "cell_type": "code",
      "source": [],
      "metadata": {
        "id": "hy9xKUUuhRjD"
      },
      "execution_count": null,
      "outputs": []
    },
    {
      "cell_type": "markdown",
      "source": [
        "#### 4.1.1 Métricas"
      ],
      "metadata": {
        "id": "900c_egxkUSc"
      }
    },
    {
      "cell_type": "markdown",
      "source": [
        "Obtenga la exactitud, la matriz de confusión y el informe de clasificación."
      ],
      "metadata": {
        "id": "3XHge8Zkksyj"
      }
    },
    {
      "cell_type": "code",
      "source": [],
      "metadata": {
        "id": "h0_sG0CQkcSh"
      },
      "execution_count": null,
      "outputs": []
    },
    {
      "cell_type": "markdown",
      "source": [
        "#### 4.1.2 Visualización del árbol"
      ],
      "metadata": {
        "id": "5a5gBQGMkaL0"
      }
    },
    {
      "cell_type": "markdown",
      "source": [
        "Visualice el árbol."
      ],
      "metadata": {
        "id": "61drdellk1jV"
      }
    },
    {
      "cell_type": "code",
      "source": [],
      "metadata": {
        "id": "TbI7PKlakk_e"
      },
      "execution_count": null,
      "outputs": []
    },
    {
      "cell_type": "markdown",
      "source": [
        "### 4.2 Optuna"
      ],
      "metadata": {
        "id": "4xGRYdTqju-h"
      }
    },
    {
      "cell_type": "markdown",
      "source": [
        "Utilizando el marco de trabajo [Optuna](https://optuna.org/) genere ensayos en el espacio de búsqueda de los hiperparámetros antes mencionados. Genere 90 ensayos. Con esas especificaciones genere un experimento que permita afinar los hiperparámetros."
      ],
      "metadata": {
        "id": "67eLQaoIj306"
      }
    },
    {
      "cell_type": "markdown",
      "source": [
        "#### 4.2.1 Métricas"
      ],
      "metadata": {
        "id": "7JaLvZUtlVcM"
      }
    },
    {
      "cell_type": "markdown",
      "source": [
        "Obtenga la exactitud, la matriz de confusión y el informe de clasificación."
      ],
      "metadata": {
        "id": "bYgQFogalVcM"
      }
    },
    {
      "cell_type": "code",
      "source": [],
      "metadata": {
        "id": "ZSBDNettlVcM"
      },
      "execution_count": null,
      "outputs": []
    },
    {
      "cell_type": "markdown",
      "source": [
        "#### 4.2.2 Visualización del árbol"
      ],
      "metadata": {
        "id": "6FKPlGkhlVcN"
      }
    },
    {
      "cell_type": "markdown",
      "source": [
        "Visualice el árbol."
      ],
      "metadata": {
        "id": "CUni4RlOlVcN"
      }
    },
    {
      "cell_type": "code",
      "source": [],
      "metadata": {
        "id": "TCWIWVqTlVcN"
      },
      "execution_count": null,
      "outputs": []
    },
    {
      "cell_type": "markdown",
      "source": [
        "### 4.3 GridSearchCV de Scikit-Learn"
      ],
      "metadata": {
        "id": "v6i2ERvQlbzQ"
      }
    },
    {
      "cell_type": "markdown",
      "source": [
        "Utilizando la clase GridSearchCV de Scikit-Learn genere una búsqueda en el espacio de antes mencionados."
      ],
      "metadata": {
        "id": "1Nbe4FS6lyxt"
      }
    },
    {
      "cell_type": "markdown",
      "source": [
        "#### 4.3.1 Métricas"
      ],
      "metadata": {
        "id": "o3-V1PsumFq_"
      }
    },
    {
      "cell_type": "markdown",
      "source": [
        "Obtenga la exactitud, la matriz de confusión y el informe de clasificación."
      ],
      "metadata": {
        "id": "bxFUxjgFmFq_"
      }
    },
    {
      "cell_type": "code",
      "source": [],
      "metadata": {
        "id": "Kve5g4pomFq_"
      },
      "execution_count": null,
      "outputs": []
    },
    {
      "cell_type": "markdown",
      "source": [
        "#### 4.3.2 Visualización del árbol"
      ],
      "metadata": {
        "id": "-8Q4syrhmFq_"
      }
    },
    {
      "cell_type": "markdown",
      "source": [
        "Visualice el árbol."
      ],
      "metadata": {
        "id": "tHPtiyi9mFq_"
      }
    },
    {
      "cell_type": "code",
      "source": [],
      "metadata": {
        "id": "2UOxku2AmFq_"
      },
      "execution_count": null,
      "outputs": []
    },
    {
      "cell_type": "markdown",
      "source": [
        "## 5 Comparación de los modelos"
      ],
      "metadata": {
        "id": "1rGrBxkCmRBS"
      }
    },
    {
      "cell_type": "markdown",
      "source": [
        "Cree una tabla de métricas del mejor modelo de las técnicas de regresión lineal y de árbol de decisión. Compare, analice y haga una interpretación del resultado.."
      ],
      "metadata": {
        "id": "PdF5o70OmVtw"
      }
    }
  ]
}