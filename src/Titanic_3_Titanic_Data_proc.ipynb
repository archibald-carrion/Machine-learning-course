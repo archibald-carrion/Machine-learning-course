{
 "cells": [
  {
   "cell_type": "markdown",
   "metadata": {
    "id": "9eiA_C8g4BAS"
   },
   "source": [
    "# Predicción de la supervivencia de pasajeros del desastre del Titanic con aprendizaje automático"
   ]
  },
  {
   "cell_type": "markdown",
   "metadata": {
    "id": "8K4oG9qG4BAU"
   },
   "source": [
    "Este ejercicio tiene como objetivo predecir el resultado del desastre del Titanic utilizando aprendizaje automático. Los datos proporcionados están divididos en datos de entrenamiento y prueba. El archivo train.csv se utilizará para ajustar los algoritmos de aprendizaje automático que luego se aplicarán al archivo test.csv para predecir quién sobrevivirá. Los conjuntos de datos consisten en diferentes características que se enumeran a continuación:"
   ]
  },
  {
   "cell_type": "markdown",
   "metadata": {
    "id": "TuzUhKe94BAU"
   },
   "source": [
    "| Variable | Definición | Clave |\n",
    "| :- | -: | :-: |\n",
    "| PClass | Clase de Pasajero | 1=1ra, 2=2da, 3=3ra |\n",
    "| Sex | Género | |\n",
    "| Age | Edad en años |\n",
    "| SibSp | # de hermanos/as / cónyuges a bordo del Titanic  |\n",
    "| Parch | # de padres / hijos a bordo del Titanic |\n",
    "| Ticket | Número de boleto |\n",
    "| Fare | Tarifa del pasajero |\n",
    "| Cabin | Número de cabina |\n",
    "| Embarked | Puerto de embarque | C = Cherburgo, Q = Queenstown, S = Southampton |\n",
    "| Survived | Supervivencia | 0=No, 1=Sí |"
   ]
  },
  {
   "cell_type": "markdown",
   "metadata": {
    "id": "5y4Jz1SZ4BAU"
   },
   "source": [
    "Notas sobre las variables\n",
    "\n",
    "pclass:\n",
    "1ra = Superior,\n",
    "2da = Media,\n",
    "3ra = Inferior\n",
    "\n",
    "age: La edad es fraccionaria si es menor a 1. Si la edad es estimada, tendrá la forma xx.5\n",
    "\n",
    "sibsp: <br> El conjunto de datos define las relaciones familiares de esta manera: <br>\n",
    "Hermano/a = hermano, hermana, hermanastro, hermanastra <br>\n",
    "Cónyuge = esposo, esposa (amantes y prometidos/as fueron ignorados)\n",
    "\n",
    "parch: <br> El conjunto de datos define las relaciones familiares de esta manera: <br>\n",
    "Padre/Madre = madre, padre <br> Hijo/a = hija, hijo, hijastra, hijastro <br> Algunos niños viajaron solo con una niñera, por lo tanto parch=0 para ellos."
   ]
  },
  {
   "cell_type": "markdown",
   "metadata": {
    "id": "AHZgVMhR4BAV"
   },
   "source": [
    "Este ejercicio se divide en tres partes, siendo el procesamiento de datos la más larga e importante.\n",
    "1. Visualización de datos\n",
    "2. Procesamiento de datos\n",
    "3. Algoritmos de aprendizaje automático"
   ]
  },
  {
   "cell_type": "markdown",
   "metadata": {
    "id": "cPvtSTHA4BAV"
   },
   "source": [
    "## Importar bibliotecas"
   ]
  },
  {
   "cell_type": "markdown",
   "metadata": {
    "id": "IFx7f-fh4BAV"
   },
   "source": [
    "En esta primera parte hay que importar todas las librerías que se usarán. Seaborn y matplotlib se usan para la visualización de datos. Pandas y numpy ayudarán con el procesamiento de datos y álgebra lineal. Finalmente, se importan las bases de datos para los diferentes algoritmos de aprendizaje automático desde sklearn. Opcionalmente, se agrega una base de datos de imágenes con el propósito de añadir imágenes al cuaderno de Jupyter."
   ]
  },
  {
   "cell_type": "code",
   "execution_count": 262,
   "metadata": {
    "id": "v4qFizNX4BAV"
   },
   "outputs": [],
   "source": [
    "# data visualization\n",
    "import seaborn as sns # type: ignore\n",
    "%matplotlib inline\n",
    "from matplotlib import pyplot as plt # type: ignore\n",
    "from matplotlib import style\n",
    "\n",
    "# data processing\n",
    "import pandas as pd\n",
    "\n",
    "# linear algebra\n",
    "import numpy as np\n",
    "\n",
    "# Algorithms\n",
    "from sklearn import linear_model\n",
    "from sklearn.linear_model import LogisticRegression\n",
    "from sklearn.ensemble import RandomForestClassifier\n",
    "from sklearn.linear_model import Perceptron\n",
    "from sklearn.linear_model import SGDClassifier\n",
    "from sklearn.tree import DecisionTreeClassifier\n",
    "from sklearn.neighbors import KNeighborsClassifier\n",
    "from sklearn.svm import SVC, LinearSVC\n",
    "from sklearn.naive_bayes import GaussianNB\n",
    "from sklearn.metrics import accuracy_score, classification_report, confusion_matrix\n",
    "\n",
    "import time\n",
    "\n",
    "from sklearn import tree\n",
    "\n",
    "#Show images\n",
    "from PIL import Image"
   ]
  },
  {
   "cell_type": "markdown",
   "metadata": {
    "id": "zlnXJ6wG4BAW"
   },
   "source": [
    "# 1. Visualización de datos"
   ]
  },
  {
   "cell_type": "markdown",
   "metadata": {
    "id": "K3x9Fy5k4BAW"
   },
   "source": [
    "La primera parte de visualización de datos está para obtener un entendimiento del conjunto de datos. Solo conociendo con qué estamos trabajando, podemos determinar qué datos necesitamos o no.\n",
    "\n",
    "Con todas las librerías importadas, podemos comenzar creando nuevas variables \"test_df\" que contendrá nuestro conjunto de prueba y \"train_df\" que incluye el conjunto de entrenamiento. Para hacer esto, usamos la función \"read_csv\" de pandas."
   ]
  },
  {
   "cell_type": "code",
   "execution_count": 263,
   "metadata": {
    "id": "iSk5UBFb4BAW"
   },
   "outputs": [],
   "source": [
    "#Loading the datasets\n",
    "test_df = pd.read_csv(\"test.csv\")\n",
    "train_df = pd.read_csv(\"train.csv\")"
   ]
  },
  {
   "cell_type": "code",
   "execution_count": 264,
   "metadata": {
    "id": "F4S1ZRdL4BAW"
   },
   "outputs": [
    {
     "name": "stdout",
     "output_type": "stream",
     "text": [
      "<class 'pandas.core.frame.DataFrame'>\n",
      "RangeIndex: 891 entries, 0 to 890\n",
      "Data columns (total 12 columns):\n",
      " #   Column       Non-Null Count  Dtype  \n",
      "---  ------       --------------  -----  \n",
      " 0   PassengerId  891 non-null    int64  \n",
      " 1   Survived     891 non-null    int64  \n",
      " 2   Pclass       891 non-null    int64  \n",
      " 3   Name         891 non-null    object \n",
      " 4   Sex          891 non-null    object \n",
      " 5   Age          714 non-null    float64\n",
      " 6   SibSp        891 non-null    int64  \n",
      " 7   Parch        891 non-null    int64  \n",
      " 8   Ticket       891 non-null    object \n",
      " 9   Fare         891 non-null    float64\n",
      " 10  Cabin        204 non-null    object \n",
      " 11  Embarked     889 non-null    object \n",
      "dtypes: float64(2), int64(5), object(5)\n",
      "memory usage: 83.7+ KB\n"
     ]
    }
   ],
   "source": [
    "# info returns the number of non-null values in each column and the data type of each column\n",
    "# it also returns the number of rows in the dataset\n",
    "train_df.info()"
   ]
  },
  {
   "cell_type": "markdown",
   "metadata": {
    "id": "Y3j0wOz64BAX"
   },
   "source": [
    "La función .info() en Python muestra información sobre el conjunto de datos. Muestra todas las columnas, el recuento de entradas dentro de las columnas y qué tipo tienen. En este caso, tenemos dos float64, cinco int64 y cinco objetos."
   ]
  },
  {
   "cell_type": "code",
   "execution_count": 265,
   "metadata": {
    "id": "t6Z_iCfJ4BAX"
   },
   "outputs": [
    {
     "data": {
      "application/vnd.microsoft.datawrangler.viewer.v0+json": {
       "columns": [
        {
         "name": "index",
         "rawType": "object",
         "type": "string"
        },
        {
         "name": "PassengerId",
         "rawType": "float64",
         "type": "float"
        },
        {
         "name": "Survived",
         "rawType": "float64",
         "type": "float"
        },
        {
         "name": "Pclass",
         "rawType": "float64",
         "type": "float"
        },
        {
         "name": "Age",
         "rawType": "float64",
         "type": "float"
        },
        {
         "name": "SibSp",
         "rawType": "float64",
         "type": "float"
        },
        {
         "name": "Parch",
         "rawType": "float64",
         "type": "float"
        },
        {
         "name": "Fare",
         "rawType": "float64",
         "type": "float"
        }
       ],
       "conversionMethod": "pd.DataFrame",
       "ref": "fb3fdf19-6e23-4546-9cf1-7e0c1b7943d1",
       "rows": [
        [
         "count",
         "891.0",
         "891.0",
         "891.0",
         "714.0",
         "891.0",
         "891.0",
         "891.0"
        ],
        [
         "mean",
         "446.0",
         "0.3838383838383838",
         "2.308641975308642",
         "29.69911764705882",
         "0.5230078563411896",
         "0.38159371492704824",
         "32.204207968574636"
        ],
        [
         "std",
         "257.3538420152301",
         "0.4865924542648575",
         "0.836071240977049",
         "14.526497332334042",
         "1.1027434322934317",
         "0.8060572211299483",
         "49.6934285971809"
        ],
        [
         "min",
         "1.0",
         "0.0",
         "1.0",
         "0.42",
         "0.0",
         "0.0",
         "0.0"
        ],
        [
         "25%",
         "223.5",
         "0.0",
         "2.0",
         "20.125",
         "0.0",
         "0.0",
         "7.9104"
        ],
        [
         "50%",
         "446.0",
         "0.0",
         "3.0",
         "28.0",
         "0.0",
         "0.0",
         "14.4542"
        ],
        [
         "75%",
         "668.5",
         "1.0",
         "3.0",
         "38.0",
         "1.0",
         "0.0",
         "31.0"
        ],
        [
         "max",
         "891.0",
         "1.0",
         "3.0",
         "80.0",
         "8.0",
         "6.0",
         "512.3292"
        ]
       ],
       "shape": {
        "columns": 7,
        "rows": 8
       }
      },
      "text/html": [
       "<div>\n",
       "<style scoped>\n",
       "    .dataframe tbody tr th:only-of-type {\n",
       "        vertical-align: middle;\n",
       "    }\n",
       "\n",
       "    .dataframe tbody tr th {\n",
       "        vertical-align: top;\n",
       "    }\n",
       "\n",
       "    .dataframe thead th {\n",
       "        text-align: right;\n",
       "    }\n",
       "</style>\n",
       "<table border=\"1\" class=\"dataframe\">\n",
       "  <thead>\n",
       "    <tr style=\"text-align: right;\">\n",
       "      <th></th>\n",
       "      <th>PassengerId</th>\n",
       "      <th>Survived</th>\n",
       "      <th>Pclass</th>\n",
       "      <th>Age</th>\n",
       "      <th>SibSp</th>\n",
       "      <th>Parch</th>\n",
       "      <th>Fare</th>\n",
       "    </tr>\n",
       "  </thead>\n",
       "  <tbody>\n",
       "    <tr>\n",
       "      <th>count</th>\n",
       "      <td>891.000000</td>\n",
       "      <td>891.000000</td>\n",
       "      <td>891.000000</td>\n",
       "      <td>714.000000</td>\n",
       "      <td>891.000000</td>\n",
       "      <td>891.000000</td>\n",
       "      <td>891.000000</td>\n",
       "    </tr>\n",
       "    <tr>\n",
       "      <th>mean</th>\n",
       "      <td>446.000000</td>\n",
       "      <td>0.383838</td>\n",
       "      <td>2.308642</td>\n",
       "      <td>29.699118</td>\n",
       "      <td>0.523008</td>\n",
       "      <td>0.381594</td>\n",
       "      <td>32.204208</td>\n",
       "    </tr>\n",
       "    <tr>\n",
       "      <th>std</th>\n",
       "      <td>257.353842</td>\n",
       "      <td>0.486592</td>\n",
       "      <td>0.836071</td>\n",
       "      <td>14.526497</td>\n",
       "      <td>1.102743</td>\n",
       "      <td>0.806057</td>\n",
       "      <td>49.693429</td>\n",
       "    </tr>\n",
       "    <tr>\n",
       "      <th>min</th>\n",
       "      <td>1.000000</td>\n",
       "      <td>0.000000</td>\n",
       "      <td>1.000000</td>\n",
       "      <td>0.420000</td>\n",
       "      <td>0.000000</td>\n",
       "      <td>0.000000</td>\n",
       "      <td>0.000000</td>\n",
       "    </tr>\n",
       "    <tr>\n",
       "      <th>25%</th>\n",
       "      <td>223.500000</td>\n",
       "      <td>0.000000</td>\n",
       "      <td>2.000000</td>\n",
       "      <td>20.125000</td>\n",
       "      <td>0.000000</td>\n",
       "      <td>0.000000</td>\n",
       "      <td>7.910400</td>\n",
       "    </tr>\n",
       "    <tr>\n",
       "      <th>50%</th>\n",
       "      <td>446.000000</td>\n",
       "      <td>0.000000</td>\n",
       "      <td>3.000000</td>\n",
       "      <td>28.000000</td>\n",
       "      <td>0.000000</td>\n",
       "      <td>0.000000</td>\n",
       "      <td>14.454200</td>\n",
       "    </tr>\n",
       "    <tr>\n",
       "      <th>75%</th>\n",
       "      <td>668.500000</td>\n",
       "      <td>1.000000</td>\n",
       "      <td>3.000000</td>\n",
       "      <td>38.000000</td>\n",
       "      <td>1.000000</td>\n",
       "      <td>0.000000</td>\n",
       "      <td>31.000000</td>\n",
       "    </tr>\n",
       "    <tr>\n",
       "      <th>max</th>\n",
       "      <td>891.000000</td>\n",
       "      <td>1.000000</td>\n",
       "      <td>3.000000</td>\n",
       "      <td>80.000000</td>\n",
       "      <td>8.000000</td>\n",
       "      <td>6.000000</td>\n",
       "      <td>512.329200</td>\n",
       "    </tr>\n",
       "  </tbody>\n",
       "</table>\n",
       "</div>"
      ],
      "text/plain": [
       "       PassengerId    Survived      Pclass         Age       SibSp  \\\n",
       "count   891.000000  891.000000  891.000000  714.000000  891.000000   \n",
       "mean    446.000000    0.383838    2.308642   29.699118    0.523008   \n",
       "std     257.353842    0.486592    0.836071   14.526497    1.102743   \n",
       "min       1.000000    0.000000    1.000000    0.420000    0.000000   \n",
       "25%     223.500000    0.000000    2.000000   20.125000    0.000000   \n",
       "50%     446.000000    0.000000    3.000000   28.000000    0.000000   \n",
       "75%     668.500000    1.000000    3.000000   38.000000    1.000000   \n",
       "max     891.000000    1.000000    3.000000   80.000000    8.000000   \n",
       "\n",
       "            Parch        Fare  \n",
       "count  891.000000  891.000000  \n",
       "mean     0.381594   32.204208  \n",
       "std      0.806057   49.693429  \n",
       "min      0.000000    0.000000  \n",
       "25%      0.000000    7.910400  \n",
       "50%      0.000000   14.454200  \n",
       "75%      0.000000   31.000000  \n",
       "max      6.000000  512.329200  "
      ]
     },
     "execution_count": 265,
     "metadata": {},
     "output_type": "execute_result"
    }
   ],
   "source": [
    "train_df.describe()"
   ]
  },
  {
   "cell_type": "code",
   "execution_count": 266,
   "metadata": {
    "id": "XwAu4j744BAX"
   },
   "outputs": [
    {
     "data": {
      "application/vnd.microsoft.datawrangler.viewer.v0+json": {
       "columns": [
        {
         "name": "index",
         "rawType": "int64",
         "type": "integer"
        },
        {
         "name": "PassengerId",
         "rawType": "int64",
         "type": "integer"
        },
        {
         "name": "Survived",
         "rawType": "int64",
         "type": "integer"
        },
        {
         "name": "Pclass",
         "rawType": "int64",
         "type": "integer"
        },
        {
         "name": "Name",
         "rawType": "object",
         "type": "string"
        },
        {
         "name": "Sex",
         "rawType": "object",
         "type": "string"
        },
        {
         "name": "Age",
         "rawType": "float64",
         "type": "float"
        },
        {
         "name": "SibSp",
         "rawType": "int64",
         "type": "integer"
        },
        {
         "name": "Parch",
         "rawType": "int64",
         "type": "integer"
        },
        {
         "name": "Ticket",
         "rawType": "object",
         "type": "string"
        },
        {
         "name": "Fare",
         "rawType": "float64",
         "type": "float"
        },
        {
         "name": "Cabin",
         "rawType": "object",
         "type": "unknown"
        },
        {
         "name": "Embarked",
         "rawType": "object",
         "type": "string"
        }
       ],
       "conversionMethod": "pd.DataFrame",
       "ref": "07ce138c-1831-42b9-b392-3dd7828f2b1c",
       "rows": [
        [
         "0",
         "1",
         "0",
         "3",
         "Braund, Mr. Owen Harris",
         "male",
         "22.0",
         "1",
         "0",
         "A/5 21171",
         "7.25",
         null,
         "S"
        ],
        [
         "1",
         "2",
         "1",
         "1",
         "Cumings, Mrs. John Bradley (Florence Briggs Thayer)",
         "female",
         "38.0",
         "1",
         "0",
         "PC 17599",
         "71.2833",
         "C85",
         "C"
        ],
        [
         "2",
         "3",
         "1",
         "3",
         "Heikkinen, Miss. Laina",
         "female",
         "26.0",
         "0",
         "0",
         "STON/O2. 3101282",
         "7.925",
         null,
         "S"
        ],
        [
         "3",
         "4",
         "1",
         "1",
         "Futrelle, Mrs. Jacques Heath (Lily May Peel)",
         "female",
         "35.0",
         "1",
         "0",
         "113803",
         "53.1",
         "C123",
         "S"
        ],
        [
         "4",
         "5",
         "0",
         "3",
         "Allen, Mr. William Henry",
         "male",
         "35.0",
         "0",
         "0",
         "373450",
         "8.05",
         null,
         "S"
        ],
        [
         "5",
         "6",
         "0",
         "3",
         "Moran, Mr. James",
         "male",
         null,
         "0",
         "0",
         "330877",
         "8.4583",
         null,
         "Q"
        ],
        [
         "6",
         "7",
         "0",
         "1",
         "McCarthy, Mr. Timothy J",
         "male",
         "54.0",
         "0",
         "0",
         "17463",
         "51.8625",
         "E46",
         "S"
        ],
        [
         "7",
         "8",
         "0",
         "3",
         "Palsson, Master. Gosta Leonard",
         "male",
         "2.0",
         "3",
         "1",
         "349909",
         "21.075",
         null,
         "S"
        ],
        [
         "8",
         "9",
         "1",
         "3",
         "Johnson, Mrs. Oscar W (Elisabeth Vilhelmina Berg)",
         "female",
         "27.0",
         "0",
         "2",
         "347742",
         "11.1333",
         null,
         "S"
        ],
        [
         "9",
         "10",
         "1",
         "2",
         "Nasser, Mrs. Nicholas (Adele Achem)",
         "female",
         "14.0",
         "1",
         "0",
         "237736",
         "30.0708",
         null,
         "C"
        ]
       ],
       "shape": {
        "columns": 12,
        "rows": 10
       }
      },
      "text/html": [
       "<div>\n",
       "<style scoped>\n",
       "    .dataframe tbody tr th:only-of-type {\n",
       "        vertical-align: middle;\n",
       "    }\n",
       "\n",
       "    .dataframe tbody tr th {\n",
       "        vertical-align: top;\n",
       "    }\n",
       "\n",
       "    .dataframe thead th {\n",
       "        text-align: right;\n",
       "    }\n",
       "</style>\n",
       "<table border=\"1\" class=\"dataframe\">\n",
       "  <thead>\n",
       "    <tr style=\"text-align: right;\">\n",
       "      <th></th>\n",
       "      <th>PassengerId</th>\n",
       "      <th>Survived</th>\n",
       "      <th>Pclass</th>\n",
       "      <th>Name</th>\n",
       "      <th>Sex</th>\n",
       "      <th>Age</th>\n",
       "      <th>SibSp</th>\n",
       "      <th>Parch</th>\n",
       "      <th>Ticket</th>\n",
       "      <th>Fare</th>\n",
       "      <th>Cabin</th>\n",
       "      <th>Embarked</th>\n",
       "    </tr>\n",
       "  </thead>\n",
       "  <tbody>\n",
       "    <tr>\n",
       "      <th>0</th>\n",
       "      <td>1</td>\n",
       "      <td>0</td>\n",
       "      <td>3</td>\n",
       "      <td>Braund, Mr. Owen Harris</td>\n",
       "      <td>male</td>\n",
       "      <td>22.0</td>\n",
       "      <td>1</td>\n",
       "      <td>0</td>\n",
       "      <td>A/5 21171</td>\n",
       "      <td>7.2500</td>\n",
       "      <td>NaN</td>\n",
       "      <td>S</td>\n",
       "    </tr>\n",
       "    <tr>\n",
       "      <th>1</th>\n",
       "      <td>2</td>\n",
       "      <td>1</td>\n",
       "      <td>1</td>\n",
       "      <td>Cumings, Mrs. John Bradley (Florence Briggs Th...</td>\n",
       "      <td>female</td>\n",
       "      <td>38.0</td>\n",
       "      <td>1</td>\n",
       "      <td>0</td>\n",
       "      <td>PC 17599</td>\n",
       "      <td>71.2833</td>\n",
       "      <td>C85</td>\n",
       "      <td>C</td>\n",
       "    </tr>\n",
       "    <tr>\n",
       "      <th>2</th>\n",
       "      <td>3</td>\n",
       "      <td>1</td>\n",
       "      <td>3</td>\n",
       "      <td>Heikkinen, Miss. Laina</td>\n",
       "      <td>female</td>\n",
       "      <td>26.0</td>\n",
       "      <td>0</td>\n",
       "      <td>0</td>\n",
       "      <td>STON/O2. 3101282</td>\n",
       "      <td>7.9250</td>\n",
       "      <td>NaN</td>\n",
       "      <td>S</td>\n",
       "    </tr>\n",
       "    <tr>\n",
       "      <th>3</th>\n",
       "      <td>4</td>\n",
       "      <td>1</td>\n",
       "      <td>1</td>\n",
       "      <td>Futrelle, Mrs. Jacques Heath (Lily May Peel)</td>\n",
       "      <td>female</td>\n",
       "      <td>35.0</td>\n",
       "      <td>1</td>\n",
       "      <td>0</td>\n",
       "      <td>113803</td>\n",
       "      <td>53.1000</td>\n",
       "      <td>C123</td>\n",
       "      <td>S</td>\n",
       "    </tr>\n",
       "    <tr>\n",
       "      <th>4</th>\n",
       "      <td>5</td>\n",
       "      <td>0</td>\n",
       "      <td>3</td>\n",
       "      <td>Allen, Mr. William Henry</td>\n",
       "      <td>male</td>\n",
       "      <td>35.0</td>\n",
       "      <td>0</td>\n",
       "      <td>0</td>\n",
       "      <td>373450</td>\n",
       "      <td>8.0500</td>\n",
       "      <td>NaN</td>\n",
       "      <td>S</td>\n",
       "    </tr>\n",
       "    <tr>\n",
       "      <th>5</th>\n",
       "      <td>6</td>\n",
       "      <td>0</td>\n",
       "      <td>3</td>\n",
       "      <td>Moran, Mr. James</td>\n",
       "      <td>male</td>\n",
       "      <td>NaN</td>\n",
       "      <td>0</td>\n",
       "      <td>0</td>\n",
       "      <td>330877</td>\n",
       "      <td>8.4583</td>\n",
       "      <td>NaN</td>\n",
       "      <td>Q</td>\n",
       "    </tr>\n",
       "    <tr>\n",
       "      <th>6</th>\n",
       "      <td>7</td>\n",
       "      <td>0</td>\n",
       "      <td>1</td>\n",
       "      <td>McCarthy, Mr. Timothy J</td>\n",
       "      <td>male</td>\n",
       "      <td>54.0</td>\n",
       "      <td>0</td>\n",
       "      <td>0</td>\n",
       "      <td>17463</td>\n",
       "      <td>51.8625</td>\n",
       "      <td>E46</td>\n",
       "      <td>S</td>\n",
       "    </tr>\n",
       "    <tr>\n",
       "      <th>7</th>\n",
       "      <td>8</td>\n",
       "      <td>0</td>\n",
       "      <td>3</td>\n",
       "      <td>Palsson, Master. Gosta Leonard</td>\n",
       "      <td>male</td>\n",
       "      <td>2.0</td>\n",
       "      <td>3</td>\n",
       "      <td>1</td>\n",
       "      <td>349909</td>\n",
       "      <td>21.0750</td>\n",
       "      <td>NaN</td>\n",
       "      <td>S</td>\n",
       "    </tr>\n",
       "    <tr>\n",
       "      <th>8</th>\n",
       "      <td>9</td>\n",
       "      <td>1</td>\n",
       "      <td>3</td>\n",
       "      <td>Johnson, Mrs. Oscar W (Elisabeth Vilhelmina Berg)</td>\n",
       "      <td>female</td>\n",
       "      <td>27.0</td>\n",
       "      <td>0</td>\n",
       "      <td>2</td>\n",
       "      <td>347742</td>\n",
       "      <td>11.1333</td>\n",
       "      <td>NaN</td>\n",
       "      <td>S</td>\n",
       "    </tr>\n",
       "    <tr>\n",
       "      <th>9</th>\n",
       "      <td>10</td>\n",
       "      <td>1</td>\n",
       "      <td>2</td>\n",
       "      <td>Nasser, Mrs. Nicholas (Adele Achem)</td>\n",
       "      <td>female</td>\n",
       "      <td>14.0</td>\n",
       "      <td>1</td>\n",
       "      <td>0</td>\n",
       "      <td>237736</td>\n",
       "      <td>30.0708</td>\n",
       "      <td>NaN</td>\n",
       "      <td>C</td>\n",
       "    </tr>\n",
       "  </tbody>\n",
       "</table>\n",
       "</div>"
      ],
      "text/plain": [
       "   PassengerId  Survived  Pclass  \\\n",
       "0            1         0       3   \n",
       "1            2         1       1   \n",
       "2            3         1       3   \n",
       "3            4         1       1   \n",
       "4            5         0       3   \n",
       "5            6         0       3   \n",
       "6            7         0       1   \n",
       "7            8         0       3   \n",
       "8            9         1       3   \n",
       "9           10         1       2   \n",
       "\n",
       "                                                Name     Sex   Age  SibSp  \\\n",
       "0                            Braund, Mr. Owen Harris    male  22.0      1   \n",
       "1  Cumings, Mrs. John Bradley (Florence Briggs Th...  female  38.0      1   \n",
       "2                             Heikkinen, Miss. Laina  female  26.0      0   \n",
       "3       Futrelle, Mrs. Jacques Heath (Lily May Peel)  female  35.0      1   \n",
       "4                           Allen, Mr. William Henry    male  35.0      0   \n",
       "5                                   Moran, Mr. James    male   NaN      0   \n",
       "6                            McCarthy, Mr. Timothy J    male  54.0      0   \n",
       "7                     Palsson, Master. Gosta Leonard    male   2.0      3   \n",
       "8  Johnson, Mrs. Oscar W (Elisabeth Vilhelmina Berg)  female  27.0      0   \n",
       "9                Nasser, Mrs. Nicholas (Adele Achem)  female  14.0      1   \n",
       "\n",
       "   Parch            Ticket     Fare Cabin Embarked  \n",
       "0      0         A/5 21171   7.2500   NaN        S  \n",
       "1      0          PC 17599  71.2833   C85        C  \n",
       "2      0  STON/O2. 3101282   7.9250   NaN        S  \n",
       "3      0            113803  53.1000  C123        S  \n",
       "4      0            373450   8.0500   NaN        S  \n",
       "5      0            330877   8.4583   NaN        Q  \n",
       "6      0             17463  51.8625   E46        S  \n",
       "7      1            349909  21.0750   NaN        S  \n",
       "8      2            347742  11.1333   NaN        S  \n",
       "9      0            237736  30.0708   NaN        C  "
      ]
     },
     "execution_count": 266,
     "metadata": {},
     "output_type": "execute_result"
    }
   ],
   "source": [
    "train_df.head(10)"
   ]
  },
  {
   "cell_type": "markdown",
   "metadata": {
    "id": "4erUHOix4BAX"
   },
   "source": [
    "Al echar un vistazo rápido al conjunto de entrenamiento, se pueden notar algunos problemas. Hay entradas __faltantes__ (NaN = not a number) que deben ser tratadas. Además, muchas entradas __no son numéricas__, lo que significa que deben ser convertidas __en valores numéricos__ para los algoritmos de aprendizaje automático."
   ]
  },
  {
   "cell_type": "markdown",
   "metadata": {
    "id": "dLPQ2-lL4BAX"
   },
   "source": [
    "Veamos más de cerca qué es lo que realmente falta."
   ]
  },
  {
   "cell_type": "code",
   "execution_count": 267,
   "metadata": {
    "id": "FAjxG9ik4BAY"
   },
   "outputs": [
    {
     "data": {
      "application/vnd.microsoft.datawrangler.viewer.v0+json": {
       "columns": [
        {
         "name": "index",
         "rawType": "object",
         "type": "string"
        },
        {
         "name": "Total",
         "rawType": "int64",
         "type": "integer"
        },
        {
         "name": "%",
         "rawType": "float64",
         "type": "float"
        }
       ],
       "conversionMethod": "pd.DataFrame",
       "ref": "073f2fa1-610a-48c0-a262-4d4f7b2691c8",
       "rows": [
        [
         "Cabin",
         "687",
         "77.1"
        ],
        [
         "Age",
         "177",
         "19.9"
        ],
        [
         "Embarked",
         "2",
         "0.2"
        ],
        [
         "PassengerId",
         "0",
         "0.0"
        ],
        [
         "Survived",
         "0",
         "0.0"
        ]
       ],
       "shape": {
        "columns": 2,
        "rows": 5
       }
      },
      "text/html": [
       "<div>\n",
       "<style scoped>\n",
       "    .dataframe tbody tr th:only-of-type {\n",
       "        vertical-align: middle;\n",
       "    }\n",
       "\n",
       "    .dataframe tbody tr th {\n",
       "        vertical-align: top;\n",
       "    }\n",
       "\n",
       "    .dataframe thead th {\n",
       "        text-align: right;\n",
       "    }\n",
       "</style>\n",
       "<table border=\"1\" class=\"dataframe\">\n",
       "  <thead>\n",
       "    <tr style=\"text-align: right;\">\n",
       "      <th></th>\n",
       "      <th>Total</th>\n",
       "      <th>%</th>\n",
       "    </tr>\n",
       "  </thead>\n",
       "  <tbody>\n",
       "    <tr>\n",
       "      <th>Cabin</th>\n",
       "      <td>687</td>\n",
       "      <td>77.1</td>\n",
       "    </tr>\n",
       "    <tr>\n",
       "      <th>Age</th>\n",
       "      <td>177</td>\n",
       "      <td>19.9</td>\n",
       "    </tr>\n",
       "    <tr>\n",
       "      <th>Embarked</th>\n",
       "      <td>2</td>\n",
       "      <td>0.2</td>\n",
       "    </tr>\n",
       "    <tr>\n",
       "      <th>PassengerId</th>\n",
       "      <td>0</td>\n",
       "      <td>0.0</td>\n",
       "    </tr>\n",
       "    <tr>\n",
       "      <th>Survived</th>\n",
       "      <td>0</td>\n",
       "      <td>0.0</td>\n",
       "    </tr>\n",
       "  </tbody>\n",
       "</table>\n",
       "</div>"
      ],
      "text/plain": [
       "             Total     %\n",
       "Cabin          687  77.1\n",
       "Age            177  19.9\n",
       "Embarked         2   0.2\n",
       "PassengerId      0   0.0\n",
       "Survived         0   0.0"
      ]
     },
     "execution_count": 267,
     "metadata": {},
     "output_type": "execute_result"
    }
   ],
   "source": [
    "#Check for NaN or empty entries in trainingsdata\n",
    "total = train_df.isnull().sum().sort_values(ascending=False)\n",
    "percent_1 = train_df.isnull().sum()/train_df.isnull().count()*100\n",
    "percent_2 = (round(percent_1, 1)).sort_values(ascending=False)\n",
    "missing_data = pd.concat([total, percent_2], axis=1, keys=['Total', '%'])\n",
    "missing_data.head(5)"
   ]
  },
  {
   "cell_type": "markdown",
   "metadata": {
    "id": "xfAqRfIf4BAY"
   },
   "source": [
    "Con solo dos valores faltantes, la característica Embarked puede completarse fácilmente. La característica Age no es tan simple de completar y la característica Cabin con 687 valores faltantes probablemente será eliminada por completo."
   ]
  },
  {
   "cell_type": "code",
   "execution_count": 268,
   "metadata": {
    "id": "V_AOitsA4BAY"
   },
   "outputs": [
    {
     "name": "stdout",
     "output_type": "stream",
     "text": [
      "['PassengerId' 'Survived' 'Pclass' 'Name' 'Sex' 'Age' 'SibSp' 'Parch'\n",
      " 'Ticket' 'Fare' 'Cabin' 'Embarked']\n"
     ]
    }
   ],
   "source": [
    "print(train_df.columns.values)"
   ]
  },
  {
   "cell_type": "markdown",
   "metadata": {
    "id": "uj63jXzN4BAY"
   },
   "source": [
    "Pregunta: <br>\n",
    "Mirando nuevamente todas las características proporcionadas, ¿cuáles crees que no tendrán un efecto en los modelos de predicción?\n",
    "\n",
    "Respuesta: <br>\n",
    "PassengerId, Ticket, Name <br>\n",
    "\n",
    "Comencemos por mirar las otras características. (Primero Age y Sex)"
   ]
  },
  {
   "cell_type": "markdown",
   "metadata": {
    "id": "D-znACti4BAY"
   },
   "source": [
    "## Age y Sex"
   ]
  },
  {
   "cell_type": "markdown",
   "metadata": {
    "id": "PLJCZBur4BAY"
   },
   "source": [
    "Para la visualización gráfica de Age y Sex con respecto a la tasa de supervivencia, usaremos un histograma. Un histograma muestra la distribución de una característica específica. En este caso, es la distribución de pasajeros femeninos y masculinos respecto a su edad y cuántos sobrevivieron."
   ]
  },
  {
   "cell_type": "code",
   "execution_count": 269,
   "metadata": {
    "id": "6irctKJC4BAY"
   },
   "outputs": [
    {
     "data": {
      "image/png": "[encoded data removed]",
      "text/plain": [
       "<Figure size 1000x400 with 2 Axes>"
      ]
     },
     "metadata": {},
     "output_type": "display_data"
    }
   ],
   "source": [
    "survived = 'survived'\n",
    "not_survived = 'not survived'\n",
    "fig, axes = plt.subplots(nrows=1, ncols=2, figsize=(10, 4))\n",
    "women = train_df[train_df['Sex']=='female']\n",
    "men = train_df[train_df['Sex']=='male']\n",
    "\n",
    "# Gráfico para mujeres\n",
    "ax = sns.histplot(women[women['Survived']==1].Age.dropna(), bins=18, label=survived, ax=axes[0], kde=False)\n",
    "ax = sns.histplot(women[women['Survived']==0].Age.dropna(), bins=40, label=not_survived, ax=axes[0], kde=False)\n",
    "ax.legend()\n",
    "ax.set_title('Female')\n",
    "\n",
    "# Gráfico para hombres\n",
    "ax = sns.histplot(men[men['Survived']==1].Age.dropna(), bins=18, label=survived, ax=axes[1], kde=False)\n",
    "ax = sns.histplot(men[men['Survived']==0].Age.dropna(), bins=40, label=not_survived, ax=axes[1], kde=False)\n",
    "ax.legend()\n",
    "_ = ax.set_title('Male')"
   ]
  },
  {
   "cell_type": "markdown",
   "metadata": {
    "id": "JBzXTKIz4BAZ"
   },
   "source": [
    "Al crear el histograma, se aprecia claramente que los hombres entre 20-40 años tuvieron una mayor probabilidad de supervivencia. Para las mujeres, la mayor probabilidad de supervivencia está entre 14 y 40 años. También es notable que los infantes tienen una tasa de supervivencia más alta.\n",
    "\n",
    "Pregunta: <br>\n",
    "¿Qué se puede hacer con la edad para simplificarla aún más?\n",
    "\n",
    "Respuesta: <br>\n",
    "Ciertas edades tienen mayores probabilidades de supervivencia que otras -> crear grupos para tener una escala similar a otras características."
   ]
  },
  {
   "cell_type": "markdown",
   "metadata": {
    "id": "wWTQ0NnY4BAZ"
   },
   "source": [
    "## Embarked, Pclass y Sex"
   ]
  },
  {
   "cell_type": "markdown",
   "metadata": {
    "id": "2fYsW4pO4BAZ"
   },
   "source": [
    "Para visualizar la característica Embarked, usaremos FacetGrid. Ayuda a mostrar distribuciones o relaciones entre múltiples variables."
   ]
  },
  {
   "cell_type": "code",
   "execution_count": 270,
   "metadata": {
    "id": "VAeGH2Yh4BAZ"
   },
   "outputs": [
    {
     "data": {
      "text/plain": [
       "<seaborn.axisgrid.FacetGrid at 0x18189857700>"
      ]
     },
     "execution_count": 270,
     "metadata": {},
     "output_type": "execute_result"
    },
    {
     "data": {
      "image/png": "[encoded data removed]",
      "text/plain": [
       "<Figure size 818x1350 with 3 Axes>"
      ]
     },
     "metadata": {},
     "output_type": "display_data"
    }
   ],
   "source": [
    "FacetGrid = sns.FacetGrid(train_df, row='Embarked', height=4.5, aspect=1.6)\n",
    "FacetGrid.map(sns.pointplot, 'Pclass', 'Survived', 'Sex', palette='deep', order=None, hue_order=None)\n",
    "FacetGrid.add_legend()"
   ]
  },
  {
   "cell_type": "markdown",
   "metadata": {
    "id": "jCClnVbm4BAZ"
   },
   "source": [
    "La característica Embarked también muestra tener un gran impacto en la probabilidad de supervivencia de los pasajeros. Los hombres que embarcaron en el puerto C tienen una mayor probabilidad de supervivencia que en el puerto S o Q. Las mujeres, por otro lado, tienen una baja tasa de supervivencia en el puerto C y altas probabilidades en los puertos S y Q.\n",
    "La clase también parece tener un efecto en la tasa de supervivencia."
   ]
  },
  {
   "cell_type": "code",
   "execution_count": 271,
   "metadata": {
    "id": "Wq2WFIyh4BAZ"
   },
   "outputs": [
    {
     "data": {
      "text/plain": [
       "<Axes: xlabel='Pclass', ylabel='Survived'>"
      ]
     },
     "execution_count": 271,
     "metadata": {},
     "output_type": "execute_result"
    },
    {
     "data": {
      "image/png": "[encoded data removed]",
      "text/plain": [
       "<Figure size 640x480 with 1 Axes>"
      ]
     },
     "metadata": {},
     "output_type": "display_data"
    }
   ],
   "source": [
    "sns.barplot(x='Pclass', y='Survived', data=train_df)"
   ]
  },
  {
   "cell_type": "markdown",
   "metadata": {
    "id": "Qtw8MNrN4BAZ"
   },
   "source": [
    "Es inmediatamente evidente que la clase 1 tiene la mayoría de los sobrevivientes y la clase 3, la menor cantidad."
   ]
  },
  {
   "cell_type": "code",
   "execution_count": 272,
   "metadata": {
    "id": "Cjt7H71B4BAZ"
   },
   "outputs": [
    {
     "data": {
      "image/png": "[encoded data removed]",
      "text/plain": [
       "<Figure size 715.111x660 with 6 Axes>"
      ]
     },
     "metadata": {},
     "output_type": "display_data"
    }
   ],
   "source": [
    "grid = sns.FacetGrid(train_df, col='Survived', row='Pclass', height=2.2, aspect=1.6)\n",
    "grid.map(plt.hist, 'Age', alpha=.5, bins=20)\n",
    "grid.add_legend();"
   ]
  },
  {
   "cell_type": "markdown",
   "metadata": {
    "id": "5crwUuF54BAa"
   },
   "source": [
    "Esta gráfica muestra la influencia de Pclass y destaca la alta tasa de mortalidad de los pasajeros en la clase 3."
   ]
  },
  {
   "cell_type": "markdown",
   "metadata": {
    "id": "0bHjV7AT4BAa"
   },
   "source": [
    "## SibSp y Parch"
   ]
  },
  {
   "cell_type": "markdown",
   "metadata": {
    "id": "FB54yfcc4BAa"
   },
   "source": [
    "SibSp y Parch son características que muestran a pasajeros y cuántos familiares tienen a bordo. En consecuencia, esta característica debería combinarse en una sola. El siguiente código crea una nueva característica \"not_alone\" que muestra si un pasajero no está solo."
   ]
  },
  {
   "cell_type": "code",
   "execution_count": 273,
   "metadata": {
    "id": "q8GZOvhN4BAa"
   },
   "outputs": [
    {
     "data": {
      "text/plain": [
       "not_alone\n",
       "0    537\n",
       "1    354\n",
       "Name: count, dtype: int64"
      ]
     },
     "execution_count": 273,
     "metadata": {},
     "output_type": "execute_result"
    }
   ],
   "source": [
    "data = [train_df, test_df]\n",
    "for dataset in data:\n",
    "    dataset['relatives'] = dataset['SibSp'] + dataset['Parch']\n",
    "    dataset.loc[dataset['relatives'] > 0, 'not_alone'] = 1\n",
    "    dataset.loc[dataset['relatives'] == 0, 'not_alone'] = 0\n",
    "    dataset['not_alone'] = dataset['not_alone'].astype(int)\n",
    "\n",
    "train_df['not_alone'].value_counts()"
   ]
  },
  {
   "cell_type": "code",
   "execution_count": 274,
   "metadata": {
    "id": "F-bUJNEi4BAa"
   },
   "outputs": [
    {
     "data": {
      "image/png": "[encoded data removed]",
      "text/plain": [
       "<Figure size 640x480 with 1 Axes>"
      ]
     },
     "metadata": {},
     "output_type": "display_data"
    }
   ],
   "source": [
    "axes = sns.pointplot(x='relatives', y='Survived', data=train_df)"
   ]
  },
  {
   "cell_type": "markdown",
   "metadata": {
    "id": "SPkhYulf4BAa"
   },
   "source": [
    "La gráfica muestra la tasa de supervivencia en relación con la cantidad de familiares que tiene una persona. Los pasajeros con 1-3 familiares tienen mayores probabilidades de supervivencia."
   ]
  },
  {
   "cell_type": "markdown",
   "metadata": {
    "id": "sPP24puA4BAa"
   },
   "source": [
    "__Concluyendo la visualización de datos:__\n",
    "- Buscamos valores vacíos o faltantes (NaN). Deben tratarse después.\n",
    "    - Cabin 687\n",
    "    - Age 177\n",
    "    - Embarked 2\n",
    "- Buscamos valores que tienen una influencia en la probabilidad de supervivencia.\n",
    "    - Age y Sex ambos tienen impacto en la supervivencia.\n",
    "    - Embarked y Pclass también muestran efecto en la supervivencia.\n",
    "- SibSp y Parch son características similares y deberían combinarse, y también parecen afectar la probabilidad de supervivencia."
   ]
  },
  {
   "cell_type": "markdown",
   "metadata": {
    "id": "zFqjU_Gj4BAm"
   },
   "source": [
    "# 2. Preprocesamiento de datos"
   ]
  },
  {
   "cell_type": "markdown",
   "metadata": {
    "id": "xrGReCt-4BAm"
   },
   "source": [
    "Después de establecer una comprensión de los datos, podemos comenzar a darles la forma que necesitamos. Para los algoritmos de aprendizaje automático, queremos que todo esté en valores numéricos y que sea similar en escala."
   ]
  },
  {
   "cell_type": "markdown",
   "metadata": {
    "id": "8foKrsFq4BAm"
   },
   "source": [
    "## PassengerId"
   ]
  },
  {
   "cell_type": "markdown",
   "metadata": {
    "id": "-v9cZzaZ4BAm"
   },
   "source": [
    "El PassengerId no tiene influencia en la probabilidad de supervivencia. En este caso, eliminaremos la columna del conjunto de entrenamiento.\n"
   ]
  },
  {
   "cell_type": "code",
   "execution_count": 275,
   "metadata": {
    "id": "hD0KPB4J4BAn"
   },
   "outputs": [],
   "source": [
    "train_df = train_df.drop(['PassengerId'], axis=1)"
   ]
  },
  {
   "cell_type": "code",
   "execution_count": 276,
   "metadata": {
    "id": "Qytcu9ay4BAn"
   },
   "outputs": [
    {
     "data": {
      "text/plain": [
       "count        891\n",
       "unique       681\n",
       "top       347082\n",
       "freq           7\n",
       "Name: Ticket, dtype: object"
      ]
     },
     "execution_count": 276,
     "metadata": {},
     "output_type": "execute_result"
    }
   ],
   "source": [
    "#Check tickets\n",
    "train_df['Ticket'].describe()"
   ]
  },
  {
   "cell_type": "code",
   "execution_count": 277,
   "metadata": {
    "id": "ayy1ZFgG4BAn"
   },
   "outputs": [],
   "source": [
    "train_df = train_df.drop(['Ticket'], axis=1)\n",
    "test_df = test_df.drop(['Ticket'], axis=1)"
   ]
  },
  {
   "cell_type": "markdown",
   "metadata": {
    "id": "ASfuJ3LA4BAn"
   },
   "source": [
    "## Manejo de datos faltantes"
   ]
  },
  {
   "cell_type": "markdown",
   "metadata": {
    "id": "TTfwlBvc4BAn"
   },
   "source": [
    "### Cabin"
   ]
  },
  {
   "cell_type": "markdown",
   "metadata": {
    "id": "EzrtvStS4BAn"
   },
   "source": [
    "Mirando de nuevo las características, tenemos 687 valores faltantes en Cabin, 177 valores en Age y solo 2 en Embarked.\n",
    "\n",
    "Los valores en Cabin están compuestos por una letra y un número, siendo la letra la cubierta. En lugar de eliminar la característica por completo, solo eliminaremos el número y crearemos una nueva característica llamada \"deck\", resultante de la letra de Cabin. La letra de la cubierta se convertirá en numérica y los valores faltantes serán 0."
   ]
  },
  {
   "cell_type": "code",
   "execution_count": 278,
   "metadata": {
    "id": "aE-VQpTN4BAo"
   },
   "outputs": [
    {
     "name": "stdout",
     "output_type": "stream",
     "text": [
      "0     NaN\n",
      "1     C85\n",
      "2     NaN\n",
      "3    C123\n",
      "4     NaN\n",
      "5     NaN\n",
      "6     E46\n",
      "7     NaN\n",
      "Name: Cabin, dtype: object\n"
     ]
    }
   ],
   "source": [
    "#Antigua característica 'Cabin'\n",
    "print(train_df['Cabin'].head(8))"
   ]
  },
  {
   "cell_type": "code",
   "execution_count": 279,
   "metadata": {
    "id": "sXcQx-a04BAo"
   },
   "outputs": [],
   "source": [
    "import re\n",
    "deck = {\"A\": 1, \"B\": 2, \"C\": 3, \"D\": 4, \"E\": 5, \"F\": 6, \"G\": 7, \"U\": 8}\n",
    "data = [train_df, test_df]\n",
    "\n",
    "for dataset in data:\n",
    "    dataset['Cabin'] = dataset['Cabin'].fillna(\"U0\")\n",
    "    dataset['Deck'] = dataset['Cabin'].map(lambda x: re.compile(\"([a-zA-Z]+)\").search(x).group())\n",
    "    dataset['Deck'] = dataset['Deck'].map(deck)\n",
    "    dataset['Deck'] = dataset['Deck'].fillna(0)\n",
    "    dataset['Deck'] = dataset['Deck'].astype(int)\n",
    "\n",
    "# we can now drop the cabin feature\n",
    "train_df = train_df.drop(['Cabin'], axis=1)\n",
    "test_df = test_df.drop(['Cabin'], axis=1)"
   ]
  },
  {
   "cell_type": "markdown",
   "metadata": {
    "id": "XuYkF2Tx4BAo"
   },
   "source": [
    "(Comparación entre Cabin y Deck)"
   ]
  },
  {
   "cell_type": "code",
   "execution_count": 280,
   "metadata": {
    "id": "fZ4awAK54BAo"
   },
   "outputs": [
    {
     "name": "stdout",
     "output_type": "stream",
     "text": [
      "0    8\n",
      "1    8\n",
      "2    8\n",
      "3    8\n",
      "4    8\n",
      "5    8\n",
      "6    8\n",
      "7    8\n",
      "Name: Deck, dtype: int32\n"
     ]
    }
   ],
   "source": [
    "#Nueva característica 'Deck'\n",
    "print(dataset['Deck'].head(8))"
   ]
  },
  {
   "cell_type": "markdown",
   "metadata": {
    "id": "B_aMLK4m4BAo"
   },
   "source": [
    "### Age"
   ]
  },
  {
   "cell_type": "markdown",
   "metadata": {
    "id": "bWXhEljB4BAo"
   },
   "source": [
    "Para Age, se agregarán nuevos valores derivados de la edad media de la desviación estándar."
   ]
  },
  {
   "cell_type": "code",
   "execution_count": 281,
   "metadata": {
    "id": "cShasBL14BAp"
   },
   "outputs": [
    {
     "name": "stdout",
     "output_type": "stream",
     "text": [
      "Valores nulos en Age de train_df: 0\n",
      "Valores nulos en Age de test_df: 0\n"
     ]
    }
   ],
   "source": [
    "# Solución corregida para imputar edades faltantes en Titanic\n",
    "data = [train_df, test_df]\n",
    "\n",
    "# Se procesa cada conjunto (train y test) por separado\n",
    "for dataset in data:\n",
    "    # Se calcula la media y desviación estándar del MISMO conjunto que se va a modificar\n",
    "    mean = dataset[\"Age\"].mean()\n",
    "    std = dataset[\"Age\"].std()\n",
    "    is_null = dataset[\"Age\"].isnull().sum()\n",
    "    \n",
    "    # Se generan valores aleatorios según la distribución del conjunto actual\n",
    "    rand_age = np.random.randint(mean - std, mean + std, size=is_null)\n",
    "    \n",
    "    # Se crea una copia para evitar SettingWithCopyWarning\n",
    "    age_slice = dataset[\"Age\"].copy()\n",
    "    \n",
    "    # Se reemplaza los valores NaN con los aleatorios generados\n",
    "    age_slice[np.isnan(age_slice)] = rand_age\n",
    "    \n",
    "    # Se asignan de vuelta al dataset y convertimos a entero\n",
    "    dataset[\"Age\"] = age_slice.astype(int)\n",
    "\n",
    "# Se verifica que no quedan valores nulos en train_df\n",
    "print(\"Valores nulos en Age de train_df:\", train_df[\"Age\"].isnull().sum())\n",
    "print(\"Valores nulos en Age de test_df:\", test_df[\"Age\"].isnull().sum())"
   ]
  },
  {
   "cell_type": "code",
   "execution_count": 282,
   "metadata": {
    "id": "g69OJW7t4BAp"
   },
   "outputs": [
    {
     "name": "stdout",
     "output_type": "stream",
     "text": [
      "0      22\n",
      "1      38\n",
      "2      26\n",
      "3      35\n",
      "4      35\n",
      "       ..\n",
      "886    27\n",
      "887    19\n",
      "888    23\n",
      "889    26\n",
      "890    32\n",
      "Name: Age, Length: 891, dtype: int32\n"
     ]
    }
   ],
   "source": [
    "print(train_df['Age'])"
   ]
  },
  {
   "cell_type": "markdown",
   "metadata": {
    "id": "sZSeU7A14BAp"
   },
   "source": [
    "La característica Embarked tiene dos valores faltantes. Estos se completarán con la característica más común. La función .describe() de Python cuenta todos los valores y devuelve la función más importante. Esto aplica solo a valores categóricos. Para valores numéricos, la función .describe() devuelve percentiles y valores medios."
   ]
  },
  {
   "cell_type": "code",
   "execution_count": 283,
   "metadata": {
    "id": "LW61Citq4BAp"
   },
   "outputs": [
    {
     "data": {
      "text/plain": [
       "count     889\n",
       "unique      3\n",
       "top         S\n",
       "freq      644\n",
       "Name: Embarked, dtype: object"
      ]
     },
     "execution_count": 283,
     "metadata": {},
     "output_type": "execute_result"
    }
   ],
   "source": [
    "train_df['Embarked'].describe()\n",
    "# .describe funciona de manera diferente para series numéricas y categóricas. La siguiente vista sólo se logra con datos categóricos. Si más abajo\n",
    "# los valores se convierten a numéricos, se calcula el promedio, etc."
   ]
  },
  {
   "cell_type": "markdown",
   "metadata": {
    "id": "Vh7kEzC54BAp"
   },
   "source": [
    "Para la característica Embarked, la más común es el puerto S, con 644 entradas."
   ]
  },
  {
   "cell_type": "code",
   "execution_count": 284,
   "metadata": {
    "id": "NblzQX1w4BAp"
   },
   "outputs": [],
   "source": [
    "common_value = 'S'\n",
    "data = [train_df, test_df]\n",
    "\n",
    "for dataset in data:\n",
    "    dataset['Embarked'] = dataset['Embarked'].fillna(common_value)"
   ]
  },
  {
   "cell_type": "markdown",
   "metadata": {
    "id": "IYbYJOO34BAp"
   },
   "source": [
    "Después de llenar todos los valores faltantes, podemos verificar nuestro conjunto de datos con .info(). Todas las características deberían contener ahora 891 entradas y cero valores faltantes. <br>También podemos detectar las características recién añadidas \"not_alone\" y \"Deck\". La imagen importada muestra el conjunto de datos original sin el procesamiento de datos."
   ]
  },
  {
   "cell_type": "code",
   "execution_count": 285,
   "metadata": {
    "id": "yumojrJ84BAq"
   },
   "outputs": [],
   "source": [
    "#train_df.info()\n",
    "#print(\"\")\n",
    "#img = Image.open('train_df_info.jpg')\n",
    "#img"
   ]
  },
  {
   "cell_type": "markdown",
   "metadata": {
    "id": "4DbYJ4bQ4BAq"
   },
   "source": [
    "Como se mencionó anteriormente, todas las características deberían ser valores numéricos. El siguiente paso muestra la conversión a valores numéricos."
   ]
  },
  {
   "cell_type": "code",
   "execution_count": 286,
   "metadata": {
    "id": "B2JraRo44BAq"
   },
   "outputs": [],
   "source": [
    "#Converting \"fare\" from float64 to int 64\n",
    "data = [train_df, test_df]\n",
    "\n",
    "for dataset in data:\n",
    "    dataset['Fare'] = dataset['Fare'].fillna(0)\n",
    "    dataset['Fare'] = dataset['Fare'].astype(int)"
   ]
  },
  {
   "cell_type": "markdown",
   "metadata": {
    "id": "1SgXRsvB4BAq"
   },
   "source": [
    "La parte complicada de los nombres es que hay muchos títulos diferentes, aparte de Mr o Mrs, como \"Lady\", \"Countess\" y así sucesivamente. Estos no son numerosos pero aún deben tenerse en cuenta. Los siguientes títulos 'Lady', 'Countess','Capt', 'Col','Don', 'Dr', 'Major', 'Rev', 'Sir', 'Jonkheer' y 'Dona' se convertirán en un solo título llamado 'Rare'.\n",
    "\n",
    "'Mlle' y 'Ms' se convertirán en 'Miss' y 'Mme' será 'Mrs'.\n",
    "\n",
    "Al final, nos quedan cinco nuevos títulos en total -> \"Mr\": 1, \"Miss\": 2, \"Mrs\": 3, \"Master\": 4, \"Rare\": 5"
   ]
  },
  {
   "cell_type": "code",
   "execution_count": 287,
   "metadata": {
    "id": "vatST0k-4BAq"
   },
   "outputs": [],
   "source": [
    "data = [train_df, test_df]\n",
    "titles = {\"Mr\": 1, \"Miss\": 2, \"Mrs\": 3, \"Master\": 4, \"Rare\": 5}\n",
    "\n",
    "for dataset in data:\n",
    "    # extract titles\n",
    "    dataset['Title'] = dataset.Name.str.extract(' ([A-Za-z]+)\\.', expand=False)\n",
    "    # replace titles with a more common title or as Rare\n",
    "    dataset['Title'] = dataset['Title'].replace(['Lady', 'Countess','Capt', 'Col','Don', 'Dr',\\\n",
    "                                            'Major', 'Rev', 'Sir', 'Jonkheer', 'Dona'], 'Rare')\n",
    "    dataset['Title'] = dataset['Title'].replace('Mlle', 'Miss')\n",
    "    dataset['Title'] = dataset['Title'].replace('Ms', 'Miss')\n",
    "    dataset['Title'] = dataset['Title'].replace('Mme', 'Mrs')\n",
    "    # convert titles into numbers\n",
    "    dataset['Title'] = dataset['Title'].map(titles)\n",
    "    # filling NaN with 0, to get safe\n",
    "    dataset['Title'] = dataset['Title'].fillna(0)\n",
    "\n",
    "train_df = train_df.drop(['Name'], axis=1)\n",
    "test_df = test_df.drop(['Name'], axis=1)"
   ]
  },
  {
   "cell_type": "markdown",
   "metadata": {
    "id": "AToQyf2G4BAq"
   },
   "source": [
    "Nuevamente usando la función .map(), definimos male como 0 y female como 1. <br>\n",
    "Lo mismo se hace para convertir los puertos S, C y Q de la característica Embarked."
   ]
  },
  {
   "cell_type": "code",
   "execution_count": 288,
   "metadata": {
    "id": "0Ekx0iND4BAq"
   },
   "outputs": [],
   "source": [
    "genders = {\"male\": 0, \"female\": 1}\n",
    "data = [train_df, test_df]\n",
    "\n",
    "for dataset in data:\n",
    "    dataset['Sex'] = dataset['Sex'].map(genders)"
   ]
  },
  {
   "cell_type": "code",
   "execution_count": 289,
   "metadata": {
    "id": "kwOPds_P4BAq"
   },
   "outputs": [],
   "source": [
    "ports = {\"S\": 0, \"C\": 1, \"Q\": 2}\n",
    "data = [train_df, test_df]\n",
    "\n",
    "for dataset in data:\n",
    "    dataset['Embarked'] = dataset['Embarked'].map(ports)"
   ]
  },
  {
   "cell_type": "markdown",
   "metadata": {
    "id": "mFbfq4vj4BAr"
   },
   "source": [
    "Después de que todos los valores se han convertido a numéricos, nos queda el siguiente conjunto de datos de entrenamiento."
   ]
  },
  {
   "cell_type": "code",
   "execution_count": 290,
   "metadata": {
    "id": "fzGkt5hb4BAr"
   },
   "outputs": [
    {
     "name": "stdout",
     "output_type": "stream",
     "text": [
      "<class 'pandas.core.frame.DataFrame'>\n",
      "RangeIndex: 891 entries, 0 to 890\n",
      "Data columns (total 12 columns):\n",
      " #   Column     Non-Null Count  Dtype\n",
      "---  ------     --------------  -----\n",
      " 0   Survived   891 non-null    int64\n",
      " 1   Pclass     891 non-null    int64\n",
      " 2   Sex        891 non-null    int64\n",
      " 3   Age        891 non-null    int32\n",
      " 4   SibSp      891 non-null    int64\n",
      " 5   Parch      891 non-null    int64\n",
      " 6   Fare       891 non-null    int32\n",
      " 7   Embarked   891 non-null    int64\n",
      " 8   relatives  891 non-null    int64\n",
      " 9   not_alone  891 non-null    int32\n",
      " 10  Deck       891 non-null    int32\n",
      " 11  Title      891 non-null    int64\n",
      "dtypes: int32(4), int64(8)\n",
      "memory usage: 69.7 KB\n"
     ]
    }
   ],
   "source": [
    "train_df.info()"
   ]
  },
  {
   "cell_type": "markdown",
   "metadata": {
    "id": "dsRLGX-T4BAr"
   },
   "source": [
    "## Creación de nuevas categorías"
   ]
  },
  {
   "cell_type": "markdown",
   "metadata": {
    "id": "ApMu6owB4BAr"
   },
   "source": [
    "Referencia a 1. visualización de datos \"Age and Sex\" -> Crear nueva categoría <br>\n",
    "Pregunta: <br>\n",
    "¿Qué sería importante al crear nuevas clases? <br>\n",
    "\n",
    "Respuesta: <br>\n",
    "Dividirlas en grupos uniformes, para que ningún grupo incluya demasiadas características en comparación con los otros."
   ]
  },
  {
   "cell_type": "code",
   "execution_count": 291,
   "metadata": {
    "id": "NhobUeYE4BAr"
   },
   "outputs": [],
   "source": [
    "test = pd.qcut(train_df['Age'], 8)"
   ]
  },
  {
   "cell_type": "code",
   "execution_count": 292,
   "metadata": {
    "id": "qzEPUhoA4BAs"
   },
   "outputs": [
    {
     "data": {
      "text/plain": [
       "Age\n",
       "(-0.001, 17.0]    129\n",
       "(21.0, 25.0]      126\n",
       "(25.0, 29.0]      112\n",
       "(29.0, 33.0]      108\n",
       "(17.0, 21.0]      105\n",
       "(33.0, 38.0]      105\n",
       "(38.0, 45.0]      105\n",
       "(45.0, 80.0]      101\n",
       "Name: count, dtype: int64"
      ]
     },
     "execution_count": 292,
     "metadata": {},
     "output_type": "execute_result"
    }
   ],
   "source": [
    "test.value_counts()"
   ]
  },
  {
   "cell_type": "code",
   "execution_count": 293,
   "metadata": {
    "id": "eqPY79594BAs"
   },
   "outputs": [
    {
     "data": {
      "text/plain": [
       "Age\n",
       "1    124\n",
       "6    123\n",
       "5    115\n",
       "3    111\n",
       "4    111\n",
       "0    110\n",
       "7    101\n",
       "2     96\n",
       "Name: count, dtype: int64"
      ]
     },
     "execution_count": 293,
     "metadata": {},
     "output_type": "execute_result"
    }
   ],
   "source": [
    "#Creating Categories\n",
    "data = [train_df, test_df]\n",
    "for dataset in data:\n",
    "    dataset['Age'] = dataset['Age'].astype(int)\n",
    "    dataset.loc[ dataset['Age'] <= 16, 'Age'] = 0\n",
    "    dataset.loc[(dataset['Age'] > 16) & (dataset['Age'] <= 21), 'Age'] = 1\n",
    "    dataset.loc[(dataset['Age'] > 21) & (dataset['Age'] <= 24), 'Age'] = 2\n",
    "    dataset.loc[(dataset['Age'] > 24) & (dataset['Age'] <= 28), 'Age'] = 3\n",
    "    dataset.loc[(dataset['Age'] > 28) & (dataset['Age'] <= 32), 'Age'] = 4\n",
    "    dataset.loc[(dataset['Age'] > 32) & (dataset['Age'] <= 37), 'Age'] = 5\n",
    "    dataset.loc[(dataset['Age'] > 37) & (dataset['Age'] <= 45), 'Age'] = 6\n",
    "    dataset.loc[ dataset['Age'] > 45, 'Age'] = 7\n",
    "\n",
    "# let's see how it's distributed\n",
    "train_df['Age'].value_counts()"
   ]
  },
  {
   "cell_type": "markdown",
   "metadata": {
    "id": "0AQHDiDt4BAs"
   },
   "source": [
    "Pregunta: <br>\n",
    "¿Qué característica queda que también podría usar nuevas categorías? <br>\n",
    "\n",
    "Respuesta: <br>\n",
    "Fare"
   ]
  },
  {
   "cell_type": "code",
   "execution_count": 294,
   "metadata": {
    "id": "LREL2P4f4BAs"
   },
   "outputs": [
    {
     "data": {
      "text/plain": [
       "count    891.000000\n",
       "mean      31.785634\n",
       "std       49.703730\n",
       "min        0.000000\n",
       "25%        7.000000\n",
       "50%       14.000000\n",
       "75%       31.000000\n",
       "max      512.000000\n",
       "Name: Fare, dtype: float64"
      ]
     },
     "execution_count": 294,
     "metadata": {},
     "output_type": "execute_result"
    }
   ],
   "source": [
    "train_df['Fare'].describe()"
   ]
  },
  {
   "cell_type": "markdown",
   "metadata": {
    "id": "loF_x2ll4BAt"
   },
   "source": [
    "Usando la función qcut(), pandas puede crear grupos de rangos que tienen cantidades similares de entradas. <br>\n",
    "Después de eso, podemos recorrer los datos y asignar el grupo a cada valor."
   ]
  },
  {
   "cell_type": "code",
   "execution_count": 295,
   "metadata": {
    "id": "6rtZAdFZ4BAt"
   },
   "outputs": [],
   "source": [
    "groups = pd.qcut(train_df['Fare'], 6)"
   ]
  },
  {
   "cell_type": "code",
   "execution_count": 296,
   "metadata": {
    "id": "lpfuVQ9R4BAt"
   },
   "outputs": [
    {
     "data": {
      "text/plain": [
       "Fare\n",
       "(-0.001, 7.0]    241\n",
       "(14.0, 26.0]     165\n",
       "(8.0, 14.0]      146\n",
       "(52.0, 512.0]    146\n",
       "(26.0, 52.0]     123\n",
       "(7.0, 8.0]        70\n",
       "Name: count, dtype: int64"
      ]
     },
     "execution_count": 296,
     "metadata": {},
     "output_type": "execute_result"
    }
   ],
   "source": [
    "groups.value_counts()"
   ]
  },
  {
   "cell_type": "code",
   "execution_count": 297,
   "metadata": {
    "id": "1yjISMZg4BAt"
   },
   "outputs": [],
   "source": [
    "data = [train_df, test_df]\n",
    "\n",
    "for dataset in data:\n",
    "    dataset.loc[ dataset['Fare'] <= 7, 'Fare'] = 0\n",
    "    dataset.loc[(dataset['Fare'] > 7) & (dataset['Fare'] <= 8), 'Fare'] = 1\n",
    "    dataset.loc[(dataset['Fare'] > 8) & (dataset['Fare'] <= 14), 'Fare']   = 2\n",
    "    dataset.loc[(dataset['Fare'] > 14) & (dataset['Fare'] <= 26), 'Fare']   = 3\n",
    "    dataset.loc[(dataset['Fare'] > 26) & (dataset['Fare'] <= 52), 'Fare']   = 4\n",
    "    dataset.loc[ dataset['Fare'] > 52, 'Fare'] = 5\n",
    "    dataset['Fare'] = dataset['Fare'].astype(int)"
   ]
  },
  {
   "cell_type": "code",
   "execution_count": 298,
   "metadata": {
    "id": "NIpLlq5r4BAt"
   },
   "outputs": [
    {
     "data": {
      "text/plain": [
       "Fare\n",
       "0    241\n",
       "3    165\n",
       "5    146\n",
       "2    146\n",
       "4    123\n",
       "1     70\n",
       "Name: count, dtype: int64"
      ]
     },
     "execution_count": 298,
     "metadata": {},
     "output_type": "execute_result"
    }
   ],
   "source": [
    "train_df['Fare'].value_counts()"
   ]
  },
  {
   "cell_type": "markdown",
   "metadata": {
    "id": "xLf5PCyQ4BAu"
   },
   "source": [
    "El último paso antes de aplicar los algoritmos de aprendizaje automático es crear dos nuevas características. <br>\n",
    "Pregunta: ¿cuáles se podrían combinar? (¿o es demasiado difícil?)"
   ]
  },
  {
   "cell_type": "code",
   "execution_count": 299,
   "metadata": {
    "id": "val6emPI4BAu"
   },
   "outputs": [],
   "source": [
    "data = [train_df, test_df]\n",
    "for dataset in data:\n",
    "    dataset['Age_Class']= dataset['Age']* dataset['Pclass']"
   ]
  },
  {
   "cell_type": "code",
   "execution_count": 300,
   "metadata": {
    "id": "W2EOVy984BAu"
   },
   "outputs": [
    {
     "data": {
      "application/vnd.microsoft.datawrangler.viewer.v0+json": {
       "columns": [
        {
         "name": "index",
         "rawType": "int64",
         "type": "integer"
        },
        {
         "name": "Survived",
         "rawType": "int64",
         "type": "integer"
        },
        {
         "name": "Pclass",
         "rawType": "int64",
         "type": "integer"
        },
        {
         "name": "Sex",
         "rawType": "int64",
         "type": "integer"
        },
        {
         "name": "Age",
         "rawType": "int32",
         "type": "integer"
        },
        {
         "name": "SibSp",
         "rawType": "int64",
         "type": "integer"
        },
        {
         "name": "Parch",
         "rawType": "int64",
         "type": "integer"
        },
        {
         "name": "Fare",
         "rawType": "int32",
         "type": "integer"
        },
        {
         "name": "Embarked",
         "rawType": "int64",
         "type": "integer"
        },
        {
         "name": "relatives",
         "rawType": "int64",
         "type": "integer"
        },
        {
         "name": "not_alone",
         "rawType": "int32",
         "type": "integer"
        },
        {
         "name": "Deck",
         "rawType": "int32",
         "type": "integer"
        },
        {
         "name": "Title",
         "rawType": "int64",
         "type": "integer"
        },
        {
         "name": "Age_Class",
         "rawType": "int64",
         "type": "integer"
        },
        {
         "name": "Fare_Per_Person",
         "rawType": "int32",
         "type": "integer"
        }
       ],
       "conversionMethod": "pd.DataFrame",
       "ref": "15b26c0b-2f8e-4907-9958-e1897d25e9f9",
       "rows": [
        [
         "0",
         "0",
         "3",
         "0",
         "2",
         "1",
         "0",
         "0",
         "0",
         "1",
         "1",
         "8",
         "1",
         "6",
         "0"
        ],
        [
         "1",
         "1",
         "1",
         "1",
         "6",
         "1",
         "0",
         "5",
         "1",
         "1",
         "1",
         "3",
         "3",
         "6",
         "2"
        ],
        [
         "2",
         "1",
         "3",
         "1",
         "3",
         "0",
         "0",
         "0",
         "0",
         "0",
         "0",
         "8",
         "2",
         "9",
         "0"
        ],
        [
         "3",
         "1",
         "1",
         "1",
         "5",
         "1",
         "0",
         "5",
         "0",
         "1",
         "1",
         "3",
         "3",
         "5",
         "2"
        ],
        [
         "4",
         "0",
         "3",
         "0",
         "5",
         "0",
         "0",
         "1",
         "0",
         "0",
         "0",
         "8",
         "1",
         "15",
         "1"
        ],
        [
         "5",
         "0",
         "3",
         "0",
         "1",
         "0",
         "0",
         "1",
         "2",
         "0",
         "0",
         "8",
         "1",
         "3",
         "1"
        ],
        [
         "6",
         "0",
         "1",
         "0",
         "7",
         "0",
         "0",
         "4",
         "0",
         "0",
         "0",
         "5",
         "1",
         "7",
         "4"
        ],
        [
         "7",
         "0",
         "3",
         "0",
         "0",
         "3",
         "1",
         "3",
         "0",
         "4",
         "1",
         "8",
         "4",
         "0",
         "0"
        ],
        [
         "8",
         "1",
         "3",
         "1",
         "3",
         "0",
         "2",
         "2",
         "0",
         "2",
         "1",
         "8",
         "3",
         "9",
         "0"
        ],
        [
         "9",
         "1",
         "2",
         "1",
         "0",
         "1",
         "0",
         "4",
         "1",
         "1",
         "1",
         "8",
         "3",
         "0",
         "2"
        ]
       ],
       "shape": {
        "columns": 14,
        "rows": 10
       }
      },
      "text/html": [
       "<div>\n",
       "<style scoped>\n",
       "    .dataframe tbody tr th:only-of-type {\n",
       "        vertical-align: middle;\n",
       "    }\n",
       "\n",
       "    .dataframe tbody tr th {\n",
       "        vertical-align: top;\n",
       "    }\n",
       "\n",
       "    .dataframe thead th {\n",
       "        text-align: right;\n",
       "    }\n",
       "</style>\n",
       "<table border=\"1\" class=\"dataframe\">\n",
       "  <thead>\n",
       "    <tr style=\"text-align: right;\">\n",
       "      <th></th>\n",
       "      <th>Survived</th>\n",
       "      <th>Pclass</th>\n",
       "      <th>Sex</th>\n",
       "      <th>Age</th>\n",
       "      <th>SibSp</th>\n",
       "      <th>Parch</th>\n",
       "      <th>Fare</th>\n",
       "      <th>Embarked</th>\n",
       "      <th>relatives</th>\n",
       "      <th>not_alone</th>\n",
       "      <th>Deck</th>\n",
       "      <th>Title</th>\n",
       "      <th>Age_Class</th>\n",
       "      <th>Fare_Per_Person</th>\n",
       "    </tr>\n",
       "  </thead>\n",
       "  <tbody>\n",
       "    <tr>\n",
       "      <th>0</th>\n",
       "      <td>0</td>\n",
       "      <td>3</td>\n",
       "      <td>0</td>\n",
       "      <td>2</td>\n",
       "      <td>1</td>\n",
       "      <td>0</td>\n",
       "      <td>0</td>\n",
       "      <td>0</td>\n",
       "      <td>1</td>\n",
       "      <td>1</td>\n",
       "      <td>8</td>\n",
       "      <td>1</td>\n",
       "      <td>6</td>\n",
       "      <td>0</td>\n",
       "    </tr>\n",
       "    <tr>\n",
       "      <th>1</th>\n",
       "      <td>1</td>\n",
       "      <td>1</td>\n",
       "      <td>1</td>\n",
       "      <td>6</td>\n",
       "      <td>1</td>\n",
       "      <td>0</td>\n",
       "      <td>5</td>\n",
       "      <td>1</td>\n",
       "      <td>1</td>\n",
       "      <td>1</td>\n",
       "      <td>3</td>\n",
       "      <td>3</td>\n",
       "      <td>6</td>\n",
       "      <td>2</td>\n",
       "    </tr>\n",
       "    <tr>\n",
       "      <th>2</th>\n",
       "      <td>1</td>\n",
       "      <td>3</td>\n",
       "      <td>1</td>\n",
       "      <td>3</td>\n",
       "      <td>0</td>\n",
       "      <td>0</td>\n",
       "      <td>0</td>\n",
       "      <td>0</td>\n",
       "      <td>0</td>\n",
       "      <td>0</td>\n",
       "      <td>8</td>\n",
       "      <td>2</td>\n",
       "      <td>9</td>\n",
       "      <td>0</td>\n",
       "    </tr>\n",
       "    <tr>\n",
       "      <th>3</th>\n",
       "      <td>1</td>\n",
       "      <td>1</td>\n",
       "      <td>1</td>\n",
       "      <td>5</td>\n",
       "      <td>1</td>\n",
       "      <td>0</td>\n",
       "      <td>5</td>\n",
       "      <td>0</td>\n",
       "      <td>1</td>\n",
       "      <td>1</td>\n",
       "      <td>3</td>\n",
       "      <td>3</td>\n",
       "      <td>5</td>\n",
       "      <td>2</td>\n",
       "    </tr>\n",
       "    <tr>\n",
       "      <th>4</th>\n",
       "      <td>0</td>\n",
       "      <td>3</td>\n",
       "      <td>0</td>\n",
       "      <td>5</td>\n",
       "      <td>0</td>\n",
       "      <td>0</td>\n",
       "      <td>1</td>\n",
       "      <td>0</td>\n",
       "      <td>0</td>\n",
       "      <td>0</td>\n",
       "      <td>8</td>\n",
       "      <td>1</td>\n",
       "      <td>15</td>\n",
       "      <td>1</td>\n",
       "    </tr>\n",
       "    <tr>\n",
       "      <th>5</th>\n",
       "      <td>0</td>\n",
       "      <td>3</td>\n",
       "      <td>0</td>\n",
       "      <td>1</td>\n",
       "      <td>0</td>\n",
       "      <td>0</td>\n",
       "      <td>1</td>\n",
       "      <td>2</td>\n",
       "      <td>0</td>\n",
       "      <td>0</td>\n",
       "      <td>8</td>\n",
       "      <td>1</td>\n",
       "      <td>3</td>\n",
       "      <td>1</td>\n",
       "    </tr>\n",
       "    <tr>\n",
       "      <th>6</th>\n",
       "      <td>0</td>\n",
       "      <td>1</td>\n",
       "      <td>0</td>\n",
       "      <td>7</td>\n",
       "      <td>0</td>\n",
       "      <td>0</td>\n",
       "      <td>4</td>\n",
       "      <td>0</td>\n",
       "      <td>0</td>\n",
       "      <td>0</td>\n",
       "      <td>5</td>\n",
       "      <td>1</td>\n",
       "      <td>7</td>\n",
       "      <td>4</td>\n",
       "    </tr>\n",
       "    <tr>\n",
       "      <th>7</th>\n",
       "      <td>0</td>\n",
       "      <td>3</td>\n",
       "      <td>0</td>\n",
       "      <td>0</td>\n",
       "      <td>3</td>\n",
       "      <td>1</td>\n",
       "      <td>3</td>\n",
       "      <td>0</td>\n",
       "      <td>4</td>\n",
       "      <td>1</td>\n",
       "      <td>8</td>\n",
       "      <td>4</td>\n",
       "      <td>0</td>\n",
       "      <td>0</td>\n",
       "    </tr>\n",
       "    <tr>\n",
       "      <th>8</th>\n",
       "      <td>1</td>\n",
       "      <td>3</td>\n",
       "      <td>1</td>\n",
       "      <td>3</td>\n",
       "      <td>0</td>\n",
       "      <td>2</td>\n",
       "      <td>2</td>\n",
       "      <td>0</td>\n",
       "      <td>2</td>\n",
       "      <td>1</td>\n",
       "      <td>8</td>\n",
       "      <td>3</td>\n",
       "      <td>9</td>\n",
       "      <td>0</td>\n",
       "    </tr>\n",
       "    <tr>\n",
       "      <th>9</th>\n",
       "      <td>1</td>\n",
       "      <td>2</td>\n",
       "      <td>1</td>\n",
       "      <td>0</td>\n",
       "      <td>1</td>\n",
       "      <td>0</td>\n",
       "      <td>4</td>\n",
       "      <td>1</td>\n",
       "      <td>1</td>\n",
       "      <td>1</td>\n",
       "      <td>8</td>\n",
       "      <td>3</td>\n",
       "      <td>0</td>\n",
       "      <td>2</td>\n",
       "    </tr>\n",
       "  </tbody>\n",
       "</table>\n",
       "</div>"
      ],
      "text/plain": [
       "   Survived  Pclass  Sex  Age  SibSp  Parch  Fare  Embarked  relatives  \\\n",
       "0         0       3    0    2      1      0     0         0          1   \n",
       "1         1       1    1    6      1      0     5         1          1   \n",
       "2         1       3    1    3      0      0     0         0          0   \n",
       "3         1       1    1    5      1      0     5         0          1   \n",
       "4         0       3    0    5      0      0     1         0          0   \n",
       "5         0       3    0    1      0      0     1         2          0   \n",
       "6         0       1    0    7      0      0     4         0          0   \n",
       "7         0       3    0    0      3      1     3         0          4   \n",
       "8         1       3    1    3      0      2     2         0          2   \n",
       "9         1       2    1    0      1      0     4         1          1   \n",
       "\n",
       "   not_alone  Deck  Title  Age_Class  Fare_Per_Person  \n",
       "0          1     8      1          6                0  \n",
       "1          1     3      3          6                2  \n",
       "2          0     8      2          9                0  \n",
       "3          1     3      3          5                2  \n",
       "4          0     8      1         15                1  \n",
       "5          0     8      1          3                1  \n",
       "6          0     5      1          7                4  \n",
       "7          1     8      4          0                0  \n",
       "8          1     8      3          9                0  \n",
       "9          1     8      3          0                2  "
      ]
     },
     "execution_count": 300,
     "metadata": {},
     "output_type": "execute_result"
    }
   ],
   "source": [
    "for dataset in data:\n",
    "    dataset['Fare_Per_Person'] = dataset['Fare']/(dataset['relatives']+1)\n",
    "    dataset['Fare_Per_Person'] = dataset['Fare_Per_Person'].astype(int)# Let's take a last look at the training set, before we start training the models.\n",
    "train_df.head(10)"
   ]
  },
  {
   "cell_type": "markdown",
   "metadata": {
    "id": "C7-QBJwB4BAu"
   },
   "source": [
    "# 3. Algoritmos de Aprendizaje de Máquinas"
   ]
  },
  {
   "cell_type": "markdown",
   "metadata": {},
   "source": [
    "First we need to split the data into a training, validation and test set.\n",
    "\n",
    "The thresholds and ratios I am currently using are just examples.\n",
    "You can adjust them based on your dataset size, after investigation, it seems like those ratios are commonly used in the field, but they may not be optimal for every dataset.\n",
    "https://towardsdatascience.com/learnings-from-a-machine-learning-engineer-part-2-the-data-sets/"
   ]
  },
  {
   "cell_type": "code",
   "execution_count": 301,
   "metadata": {},
   "outputs": [],
   "source": [
    "# Constants\n",
    "RANDOM_SEED = 42  # The answer to life, the universe, and everything\n",
    "DATASET_SIZE_THRESHOLDS = {\n",
    "    \"small\": 10000,\n",
    "    \"medium\": 100000\n",
    "}\n",
    "\n",
    "SPLIT_RATIOS = {\n",
    "    \"small\": {\"train\": 0.8, \"val\": 0.1, \"test\": 0.1},\n",
    "    \"medium\": {\"train\": 0.7, \"val\": 0.15, \"test\": 0.15},\n",
    "    \"large\": {\"train\": 0.6, \"val\": 0.2, \"test\": 0.2}\n",
    "}"
   ]
  },
  {
   "cell_type": "code",
   "execution_count": 302,
   "metadata": {},
   "outputs": [],
   "source": [
    "def determine_dataset_size(df_length):\n",
    "    \"\"\"Determine the dataset size category based on length.\"\"\"\n",
    "    if df_length < DATASET_SIZE_THRESHOLDS[\"small\"]:\n",
    "        return \"small\"\n",
    "    elif df_length < DATASET_SIZE_THRESHOLDS[\"medium\"]:\n",
    "        return \"medium\"\n",
    "    else:\n",
    "        return \"large\""
   ]
  },
  {
   "cell_type": "markdown",
   "metadata": {},
   "source": [
    "Utils used to evaluate the models"
   ]
  },
  {
   "cell_type": "code",
   "execution_count": 322,
   "metadata": {},
   "outputs": [],
   "source": [
    "def evaluate_model(model, X_test, y_test, feature_names=None, export_conf_matrix=False):\n",
    "    \"\"\"Evaluate the model and print detailed metrics.\"\"\"\n",
    "    start_time = time.time()\n",
    "    y_pred = model.predict(X_test)\n",
    "    prediction_time = time.time() - start_time\n",
    "    \n",
    "    # Calculate metrics\n",
    "    accuracy = accuracy_score(y_test, y_pred)\n",
    "    \n",
    "    print(f\"Model prediction time: {prediction_time:.4f} seconds\")\n",
    "    print(f\"Accuracy: {accuracy:.4f}\")\n",
    "    print(\"\\nClassification Report:\")\n",
    "    print(classification_report(y_test, y_pred))\n",
    "\n",
    "    # Plot confusion matrix\n",
    "    plt.figure(figsize=(8, 6))\n",
    "    cm = confusion_matrix(y_test, y_pred)\n",
    "    sns.heatmap(cm, annot=True, fmt='d', cmap='Blues', \n",
    "                xticklabels=['Did Not Survive', 'Survived'],\n",
    "                yticklabels=['Did Not Survive', 'Survived'])\n",
    "    plt.xlabel('Predicted')\n",
    "    plt.ylabel('Actual')\n",
    "    plt.title('Confusion Matrix')\n",
    "    plt.tight_layout()\n",
    "    plt.show()\n",
    "\n",
    "    if export_conf_matrix:\n",
    "        plt.savefig(\"confusion_matrix.png\")\n",
    "        plt.close()\n",
    "\n",
    "    # Visualize decision tree if it's not too complex\n",
    "    if isinstance(model, DecisionTreeClassifier) and model.tree_.node_count < 50:\n",
    "        plt.figure(figsize=(20, 10))\n",
    "        tree.plot_tree(model, feature_names=feature_names, \n",
    "                      class_names=['Did Not Survive', 'Survived'],\n",
    "                      filled=True, rounded=True)\n",
    "        plt.title('Decision Tree Visualization')\n",
    "        plt.tight_layout()\n",
    "        plt.show()\n",
    "\n",
    "    # Visualize Stochastic Gradient Descent (SGD) if applicable\n",
    "    if isinstance(model, SGDClassifier) and feature_names is not None:\n",
    "        plt.figure(figsize=(10, 6))\n",
    "        feature_importance = pd.Series(model.coef_[0], index=feature_names).sort_values()\n",
    "        feature_importance.plot(kind='barh', color='teal')\n",
    "        plt.xlabel(\"Coefficient Value\")\n",
    "        plt.ylabel(\"Feature\")\n",
    "        plt.title(\"Feature Importance (SGD Coefficients)\")\n",
    "        plt.tight_layout()\n",
    "        plt.show()\n",
    "        \n",
    "    \n",
    "    return accuracy, y_pred"
   ]
  },
  {
   "cell_type": "code",
   "execution_count": 304,
   "metadata": {},
   "outputs": [],
   "source": [
    "def split_dataset(df, dataset_size):\n",
    "    \"\"\"Split dataset based on size category.\"\"\"\n",
    "    ratios = SPLIT_RATIOS[dataset_size]\n",
    "    \n",
    "    # Calculate split indices\n",
    "    train_end = int(ratios[\"train\"] * len(df))\n",
    "    val_end = train_end + int(ratios[\"val\"] * len(df))\n",
    "    \n",
    "    # Split the dataframe\n",
    "    train_df = df[:train_end]\n",
    "    val_df = df[train_end:val_end]\n",
    "    test_df = df[val_end:]\n",
    "    \n",
    "    return train_df, val_df, test_df"
   ]
  },
  {
   "cell_type": "code",
   "execution_count": 305,
   "metadata": {
    "id": "HXBnweQn4BAu"
   },
   "outputs": [
    {
     "name": "stdout",
     "output_type": "stream",
     "text": [
      "Dataset size category: small\n",
      "Train size: 712 (79.9%)\n",
      "Validation size: 89 (10.0%)\n",
      "Test size: 90 (10.1%)\n",
      "\n",
      "Dataset Shapes:\n",
      "X_train: (712, 13), y_train: (712,)\n",
      "X_val: (89, 13), y_val: (89,)\n",
      "X_test: (90, 13), y_test: (90,)\n"
     ]
    },
    {
     "data": {
      "text/plain": [
       "'\\n# In the given case the test dataset is imcomplete so we will need to use the training set for training and validation and testing.\\n\\n# in the theorical case the test set would be complete we would use the following code.\\ntest_df = test_df.sample(frac=1, random_state=answer_to_life_the_universe_and_everything)\\ntrain_df = train_df.sample(frac=1, random_state=answer_to_life_the_universe_and_everything)\\n\\n# Now, let\\'s split the  test_df into two equal parts for validation and testing\\nval_df, test_df = np.split(test_df, [int(.5 * len(test_df))])\\n\\n\\n## Eliminar la característica \"Survived\" del conjunto de datos de entrenamiento y usar el conjunto de datos resultante como \"Predictor\", llámalo X_train.\\n## Tomar la característica \"Survived\" del conjunto de datos de entrenamiento como \"Respuesta\" para tus modelos, llámala Y_train.\\n\\nX_train = train_df.drop(\"Survived\", axis=1)\\nY_train = train_df[\"Survived\"]\\n\\n## ¡Esto también lo puedes hacer! Borra el #\\nX_test  = test_df.drop(\"PassengerId\", axis=1).copy()\\n\\n'"
      ]
     },
     "execution_count": 305,
     "metadata": {},
     "output_type": "execute_result"
    }
   ],
   "source": [
    "# This following code would be used in a context where you want to split the dataset into training, validation, and test sets based on the size of the dataset.\n",
    "# The dataset is shuffled once at the start to ensure randomness in the splits.\n",
    "df = train_df.sample(frac=1, random_state=RANDOM_SEED)\n",
    "\n",
    "# Determine dataset size and apply appropriate split\n",
    "dataset_size = determine_dataset_size(len(df))\n",
    "train_df, val_df, test_df = split_dataset(df, dataset_size)\n",
    "\n",
    "print(f\"Dataset size category: {dataset_size}\")\n",
    "print(f\"Train size: {len(train_df)} ({len(train_df)/len(df):.1%})\")\n",
    "print(f\"Validation size: {len(val_df)} ({len(val_df)/len(df):.1%})\")\n",
    "print(f\"Test size: {len(test_df)} ({len(test_df)/len(df):.1%})\")\n",
    "\n",
    "# Prepare features and target variables\n",
    "X_train = train_df.drop(\"Survived\", axis=1)\n",
    "y_train = train_df[\"Survived\"]\n",
    "\n",
    "X_val = val_df.drop(\"Survived\", axis=1)\n",
    "y_val = val_df[\"Survived\"]\n",
    "\n",
    "X_test = test_df.drop(\"Survived\", axis=1)\n",
    "y_test = test_df[\"Survived\"]\n",
    "\n",
    "# Verify dataset shapes\n",
    "print(\"\\nDataset Shapes:\")\n",
    "print(f\"X_train: {X_train.shape}, y_train: {y_train.shape}\")\n",
    "print(f\"X_val: {X_val.shape}, y_val: {y_val.shape}\")\n",
    "print(f\"X_test: {X_test.shape}, y_test: {y_test.shape}\")\n",
    "\n",
    "\"\"\"\n",
    "# In the given case the test dataset is imcomplete so we will need to use the training set for training and validation and testing.\n",
    "\n",
    "# in the theorical case the test set would be complete we would use the following code.\n",
    "test_df = test_df.sample(frac=1, random_state=answer_to_life_the_universe_and_everything)\n",
    "train_df = train_df.sample(frac=1, random_state=answer_to_life_the_universe_and_everything)\n",
    "\n",
    "# Now, let's split the  test_df into two equal parts for validation and testing\n",
    "val_df, test_df = np.split(test_df, [int(.5 * len(test_df))])\n",
    "\n",
    "\n",
    "## Eliminar la característica \"Survived\" del conjunto de datos de entrenamiento y usar el conjunto de datos resultante como \"Predictor\", llámalo X_train.\n",
    "## Tomar la característica \"Survived\" del conjunto de datos de entrenamiento como \"Respuesta\" para tus modelos, llámala Y_train.\n",
    "\n",
    "X_train = train_df.drop(\"Survived\", axis=1)\n",
    "Y_train = train_df[\"Survived\"]\n",
    "\n",
    "## ¡Esto también lo puedes hacer! Borra el #\n",
    "X_test  = test_df.drop(\"PassengerId\", axis=1).copy()\n",
    "\n",
    "\"\"\""
   ]
  },
  {
   "cell_type": "markdown",
   "metadata": {},
   "source": [
    "### **Precision vs Accuracy in Classification**  \n",
    "\n",
    "When evaluating a machine learning model, **accuracy** and **precision** are two important metrics, but they measure different aspects of performance.\n",
    "\n",
    "#### **1. Accuracy**  \n",
    "Accuracy measures how many predictions were **correct** out of all predictions made. It is useful when classes are balanced but can be misleading if the dataset is imbalanced.\n",
    "\n",
    "\\[\n",
    "\\text{Accuracy} = \\frac{\\text{True Positives} + \\text{True Negatives}}{\\text{Total Predictions}}\n",
    "\\]\n",
    "\n",
    "#### **2. Precision**  \n",
    "Precision focuses only on the **positive predictions**, measuring how many of the predicted positives were actually correct. It is crucial when false positives are costly.\n",
    "\n",
    "\\[\n",
    "\\text{Precision} = \\frac{\\text{True Positives}}{\\text{True Positives} + \\text{False Positives}}\n",
    "\\]\n",
    "\n",
    "### **Visual Comparison using Confusion Matrix**\n",
    "```mermaid\n",
    "graph TD\n",
    "    A(Total Predictions) -->|Correct Predictions| B(True Positives + True Negatives)\n",
    "    A -->|Incorrect Predictions| C(False Positives + False Negatives)\n",
    "\n",
    "    B -->|Relevant for Accuracy| D(Accuracy = (TP + TN) / Total)\n",
    "    C -->|Ignored in Accuracy| E\n",
    "    \n",
    "    F(Predicted Positives) -->|True Positives (TP)| G\n",
    "    F -->|False Positives (FP)| H\n",
    "\n",
    "    G -->|Relevant for Precision| I(Precision = TP / (TP + FP))\n",
    "```\n",
    "\n",
    "### **When to Use Accuracy vs Precision?**\n",
    "- Use **accuracy** when false positives and false negatives have equal costs.  \n",
    "- Use **precision** when **false positives are costly**, such as in **spam detection** (where misclassifying an important email as spam is a big issue).  "
   ]
  },
  {
   "cell_type": "markdown",
   "metadata": {
    "id": "m6wD_4_W4BAu"
   },
   "source": [
    "## Árbol de decisión"
   ]
  },
  {
   "cell_type": "code",
   "execution_count": 306,
   "metadata": {
    "id": "BTNUMWey4BAv"
   },
   "outputs": [
    {
     "name": "stdout",
     "output_type": "stream",
     "text": [
      "\n",
      "Decision Tree training time: 0.0080 seconds\n",
      "Validation accuracy: 0.7865\n",
      "\n",
      "Test Set Evaluation:\n",
      "Model prediction time: 0.0030 seconds\n",
      "Accuracy: 0.8667\n",
      "\n",
      "Classification Report:\n",
      "              precision    recall  f1-score   support\n",
      "\n",
      "           0       0.93      0.88      0.90        65\n",
      "           1       0.72      0.84      0.78        25\n",
      "\n",
      "    accuracy                           0.87        90\n",
      "   macro avg       0.83      0.86      0.84        90\n",
      "weighted avg       0.88      0.87      0.87        90\n",
      "\n"
     ]
    },
    {
     "data": {
      "image/png": "[encoded data removed]",
      "text/plain": [
       "<Figure size 800x600 with 2 Axes>"
      ]
     },
     "metadata": {},
     "output_type": "display_data"
    },
    {
     "data": {
      "image/png": "[encoded data removed]",
      "text/plain": [
       "<Figure size 2000x1000 with 1 Axes>"
      ]
     },
     "metadata": {},
     "output_type": "display_data"
    },
    {
     "name": "stdout",
     "output_type": "stream",
     "text": [
      "\n",
      "Feature Importance:\n",
      "            Feature  Importance\n",
      "1               Sex    0.524003\n",
      "0            Pclass    0.144661\n",
      "10            Title    0.077548\n",
      "9              Deck    0.069588\n",
      "11        Age_Class    0.062626\n",
      "7         relatives    0.051720\n",
      "12  Fare_Per_Person    0.025515\n",
      "3             SibSp    0.022246\n",
      "5              Fare    0.018491\n",
      "4             Parch    0.002095\n",
      "2               Age    0.001507\n",
      "6          Embarked    0.000000\n",
      "8         not_alone    0.000000\n"
     ]
    },
    {
     "data": {
      "image/png": "[encoded data removed]",
      "text/plain": [
       "<Figure size 1000x600 with 1 Axes>"
      ]
     },
     "metadata": {},
     "output_type": "display_data"
    }
   ],
   "source": [
    "## Aplica el algoritmo de árbol de decisión al conjunto de datos de entrenamiento\n",
    "\n",
    "MAX_DEPTH = 5  # Maximum depth of the tree to prevent overfitting\n",
    "MIN_SAMPLES_SPLIT = 10  # Minimum samples required to split an internal node\n",
    "\n",
    "# Define and train the model\n",
    "decision_tree = DecisionTreeClassifier(\n",
    "    random_state=RANDOM_SEED,\n",
    "    max_depth=MAX_DEPTH,\n",
    "    min_samples_split=MIN_SAMPLES_SPLIT\n",
    ")\n",
    "\n",
    "# Train the model while timing how long it takes\n",
    "start_time = time.time()\n",
    "decision_tree.fit(X_train, y_train)\n",
    "training_time = time.time() - start_time\n",
    "print(f\"\\nDecision Tree training time: {training_time:.4f} seconds\")\n",
    "\n",
    "# Calculate validation accuracy\n",
    "val_accuracy = accuracy_score(y_val, decision_tree.predict(X_val))\n",
    "print(f\"Validation accuracy: {val_accuracy:.4f}\")\n",
    "\n",
    "# Evaluate model on test set\n",
    "print(\"\\nTest Set Evaluation:\")\n",
    "test_accuracy, _ = evaluate_model(\n",
    "    decision_tree, \n",
    "    X_test, \n",
    "    y_test, \n",
    "    feature_names=X_train.columns.tolist()\n",
    ")\n",
    "\n",
    "# Feature importance\n",
    "if hasattr(decision_tree, 'feature_importances_'):\n",
    "    feature_importance = pd.DataFrame({\n",
    "        'Feature': X_train.columns,\n",
    "        'Importance': decision_tree.feature_importances_\n",
    "    }).sort_values('Importance', ascending=False)\n",
    "    \n",
    "    # The feature importance consists of how much each feature contributes to the decision tree's predictions.\n",
    "    # for example, perhaps the feature \"Age\" is more important than \"Fare\" in predicting survival.\n",
    "    # This is a simple way to visualize which features are most important in the model.\n",
    "    print(\"\\nFeature Importance:\")\n",
    "    print(feature_importance)\n",
    "    \n",
    "    # Plot feature importance\n",
    "    plt.figure(figsize=(10, 6))\n",
    "    sns.barplot(x='Importance', y='Feature', data=feature_importance)\n",
    "    plt.title('Feature Importance')\n",
    "    plt.tight_layout()\n",
    "    plt.show()\n",
    "\n",
    "\n",
    "# add better results/data visualization of the decision tree\n",
    "\n",
    "\n",
    "\n",
    "## Queremos evaluar la puntuación de cada modelo de predicción, también es suficiente redondear la puntuación a dos decimales\n",
    "#acc_decision_tree = round(decision_tree.score(X_train, Y_train) * 100, 2)\n"
   ]
  },
  {
   "cell_type": "markdown",
   "metadata": {
    "id": "IDmmfXMy4BAv"
   },
   "source": [
    "## Descenso de gradiente estocástico"
   ]
  },
  {
   "cell_type": "code",
   "execution_count": null,
   "metadata": {
    "id": "EXgmhRID4BAv"
   },
   "outputs": [
    {
     "name": "stdout",
     "output_type": "stream",
     "text": [
      "\n",
      "SGD Classifier training time: 0.0060 seconds\n",
      "Validation accuracy: 0.6404\n",
      "\n",
      "Test Set Evaluation:\n",
      "Model prediction time: 0.0010 seconds\n",
      "Accuracy: 0.6778\n",
      "\n",
      "Classification Report:\n",
      "              precision    recall  f1-score   support\n",
      "\n",
      "           0       0.86      0.66      0.75        65\n",
      "           1       0.45      0.72      0.55        25\n",
      "\n",
      "    accuracy                           0.68        90\n",
      "   macro avg       0.66      0.69      0.65        90\n",
      "weighted avg       0.75      0.68      0.69        90\n",
      "\n"
     ]
    },
    {
     "data": {
      "image/png": "[encoded data removed]",
      "text/plain": [
       "<Figure size 800x600 with 2 Axes>"
      ]
     },
     "metadata": {},
     "output_type": "display_data"
    },
    {
     "data": {
      "image/png": "[encoded data removed]",
      "text/plain": [
       "<Figure size 1000x600 with 1 Axes>"
      ]
     },
     "metadata": {},
     "output_type": "display_data"
    },
    {
     "name": "stdout",
     "output_type": "stream",
     "text": [
      "SGD Classifier Training Accuracy: 66.85%\n"
     ]
    }
   ],
   "source": [
    "## Aplica el algoritmo SGD al conjunto de datos de entrenamiento con un número máximo de iteraciones = 5 y tol = None\n",
    "\n",
    "# Hyperparameters for SGD, must be adjusted based on the dataset\n",
    "MAX_ITERATION = 1000  # Number of passes over the dataset\n",
    "TOL = 1e-3  # Stopping criterion (imkprovement lesser than this value)\n",
    "# could also add alpha value for regularization\n",
    "\n",
    "# Define the SGD classifier\n",
    "sgd_clf = SGDClassifier(\n",
    "    loss='log_loss',  # Logistic Regression loss for classification\n",
    "    random_state=RANDOM_SEED,\n",
    "    max_iter=MAX_ITERATION,\n",
    "    tol=TOL\n",
    "    )\n",
    "\n",
    "# Train the model and measure training time\n",
    "start_time = time.time()\n",
    "sgd_clf.fit(X_train, y_train)\n",
    "training_time = time.time() - start_time\n",
    "print(f\"\\nSGD Classifier training time: {training_time:.4f} seconds\")\n",
    "\n",
    "# Calculate validation accuracy\n",
    "val_accuracy = accuracy_score(y_val, sgd_clf.predict(X_val))\n",
    "print(f\"Validation accuracy: {val_accuracy:.4f}\")\n",
    "\n",
    "# Evaluate model on test set\n",
    "print(\"\\nTest Set Evaluation:\")\n",
    "test_accuracy, _ = evaluate_model(\n",
    "    sgd_clf, \n",
    "    X_test, \n",
    "    y_test, \n",
    "    feature_names=X_train.columns.tolist()\n",
    ")\n",
    "\n",
    "## Add equivalent code for feature importance if applicable\n",
    "\n",
    "# Final model accuracy score\n",
    "test_acc_sgd = round(sgd_clf.score(X_train, y_train) * 100, 2)\n",
    "print(f\"SGD Classifier Training Accuracy: {test_acc_sgd}%\")\n",
    "\n",
    "\n",
    "## Evalúa la puntuación como para el Árbol de decisión"
   ]
  },
  {
   "cell_type": "markdown",
   "metadata": {
    "id": "u4FGhMRd4BAv"
   },
   "source": [
    "## Random Forest"
   ]
  },
  {
   "cell_type": "code",
   "execution_count": 308,
   "metadata": {
    "id": "lcdccY-I4BAv"
   },
   "outputs": [],
   "source": [
    "## Aplica el algoritmo Random Forest al conjunto de datos de entrenamiento con un número máximo de estimadores = 100\n",
    "\n",
    "## Evalúa la puntuación como para el Árbol de decisión"
   ]
  },
  {
   "cell_type": "markdown",
   "metadata": {
    "id": "ByuVC5-s4BAv"
   },
   "source": [
    "## Regresión Logística"
   ]
  },
  {
   "cell_type": "code",
   "execution_count": 309,
   "metadata": {
    "id": "xogKx1Gf4BAw"
   },
   "outputs": [],
   "source": [
    "## Aplica el algoritmo de Regresión Logística al conjunto de datos de entrenamiento\n",
    "\n",
    "## Evalúa la puntuación como para el Árbol de decisión"
   ]
  },
  {
   "cell_type": "markdown",
   "metadata": {
    "id": "SVsuUvwL4BAw"
   },
   "source": [
    "## K vecinos más cercanos"
   ]
  },
  {
   "cell_type": "code",
   "execution_count": 310,
   "metadata": {
    "id": "72oaJNO64BAw"
   },
   "outputs": [],
   "source": [
    "## Aplica el algoritmo KNN al conjunto de datos de entrenamiento con 3 vecinos\n",
    "\n",
    "## Evalúa la puntuación como para el Árbol de decisión"
   ]
  },
  {
   "cell_type": "markdown",
   "metadata": {
    "id": "VfmwNAN24BAw"
   },
   "source": [
    "Bayes ingenuo gaussiano"
   ]
  },
  {
   "cell_type": "code",
   "execution_count": 311,
   "metadata": {
    "id": "GY36K8xn4BAw"
   },
   "outputs": [],
   "source": [
    "## Aplica el algoritmo Bayes ingenuo gaussiano al conjunto de datos de entrenamiento\n",
    "\n",
    "## Evalúa la puntuación como para el Árbol de decisión"
   ]
  },
  {
   "cell_type": "markdown",
   "metadata": {
    "id": "VjINTL794BAw"
   },
   "source": [
    "## Perceptrón"
   ]
  },
  {
   "cell_type": "code",
   "execution_count": 312,
   "metadata": {
    "id": "S_qZAI2D4BAx"
   },
   "outputs": [],
   "source": [
    "## Aplica el algoritmo de Perceptrón al conjunto de datos de entrenamiento con 5 iteraciones\n",
    "\n",
    "## Evalúa la puntuación como para el Árbol de decisión"
   ]
  },
  {
   "cell_type": "markdown",
   "metadata": {
    "id": "T4yE-Hn94BAx"
   },
   "source": [
    "## Máquina de soporte vectorial lineal"
   ]
  },
  {
   "cell_type": "code",
   "execution_count": 313,
   "metadata": {
    "id": "X4mGKKCE4BAx"
   },
   "outputs": [],
   "source": [
    "## Aplica el algoritmo de Máquina de soporte vectorial lineal al conjunto de datos de entrenamiento con 5 iteraciones\n",
    "\n",
    "## Evalúa la puntuación como para el Árbol de decisión"
   ]
  },
  {
   "cell_type": "markdown",
   "metadata": {
    "id": "K8mPeUP94BAx"
   },
   "source": [
    "## Resultados"
   ]
  },
  {
   "cell_type": "code",
   "execution_count": 314,
   "metadata": {
    "id": "SteAOBr84BAx"
   },
   "outputs": [],
   "source": [
    "## Al final de nuestro primer ejemplo completo de Aprendizaje Automático, queremos saber qué modelo se ajusta mejor a nuestro problema.\n",
    "## Por lo tanto, cambiar, si es necesario, el código de acuerdo con tus variables dadas para la puntuación\n",
    "\n",
    "#results = pd.DataFrame({\n",
    "#    'Model': ['Support Vector Machines', 'KNN', 'Logistic Regression',\n",
    "#              'Random Forest', 'Naive Bayes', 'Perceptron',\n",
    "#              'Stochastic Gradient Decent',\n",
    "#              'Decision Tree'],\n",
    "#    'Score': [acc_linear_svc, acc_knn, acc_log,\n",
    "#              acc_random_forest, acc_gaussian, acc_perceptron,\n",
    "#              acc_sgd, acc_decision_tree]})\n",
    "#result_df = results.sort_values(by='Score', ascending=False)\n",
    "#result_df = result_df.set_index('Score')\n",
    "#result_df.head(9)"
   ]
  }
 ],
 "metadata": {
  "colab": {
   "provenance": []
  },
  "kernelspec": {
   "display_name": "Python 3",
   "language": "python",
   "name": "python3"
  },
  "language_info": {
   "codemirror_mode": {
    "name": "ipython",
    "version": 3
   },
   "file_extension": ".py",
   "mimetype": "text/x-python",
   "name": "python",
   "nbconvert_exporter": "python",
   "pygments_lexer": "ipython3",
   "version": "3.10.6"
  }
 },
 "nbformat": 4,
 "nbformat_minor": 0
}
