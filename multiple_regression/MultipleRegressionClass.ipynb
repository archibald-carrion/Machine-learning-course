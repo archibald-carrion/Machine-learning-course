{
 "cells": [
  {
   "cell_type": "markdown",
   "metadata": {
    "id": "c5UW_ZpoBHfe"
   },
   "source": [
    "# Regresión"
   ]
  },
  {
   "cell_type": "markdown",
   "metadata": {
    "id": "xXS98ThcBHfi"
   },
   "source": [
    "### Importación de bibliotecas requeridas"
   ]
  },
  {
   "cell_type": "code",
   "execution_count": 1,
   "metadata": {
    "id": "4c3rZcWTBHfj"
   },
   "outputs": [],
   "source": [
    "# Cargar bibliotecas\n",
    "import pandas as pd\n",
    "from string import ascii_letters\n",
    "import numpy as np\n",
    "import pandas as pd\n",
    "import seaborn as sns\n",
    "import matplotlib.pyplot as plt"
   ]
  },
  {
   "cell_type": "markdown",
   "metadata": {
    "id": "rJTlOLluBHfl"
   },
   "source": [
    "### Diabetes dataset"
   ]
  },
  {
   "cell_type": "code",
   "execution_count": 2,
   "metadata": {
    "id": "VVl7tO53BHfl"
   },
   "outputs": [],
   "source": [
    "# Base de datos de diabetes de la India Pima\n",
    "# Predecir la aparición de diabetes con base en medidas de diagnóstico\n",
    "# https://www.kaggle.com/uciml/pima-indians-diabetes-database (descárguelo)\n",
    "\n",
    "# Cargar conjunto de datos\n",
    "pima = pd.read_csv(\"diabetes.csv\")"
   ]
  },
  {
   "cell_type": "code",
   "execution_count": 3,
   "metadata": {
    "id": "Oi7ht54vBHfm"
   },
   "outputs": [
    {
     "data": {
      "application/vnd.microsoft.datawrangler.viewer.v0+json": {
       "columns": [
        {
         "name": "index",
         "rawType": "int64",
         "type": "integer"
        },
        {
         "name": "Pregnancies",
         "rawType": "int64",
         "type": "integer"
        },
        {
         "name": "Glucose",
         "rawType": "int64",
         "type": "integer"
        },
        {
         "name": "BloodPressure",
         "rawType": "int64",
         "type": "integer"
        },
        {
         "name": "SkinThickness",
         "rawType": "int64",
         "type": "integer"
        },
        {
         "name": "Insulin",
         "rawType": "int64",
         "type": "integer"
        },
        {
         "name": "BMI",
         "rawType": "float64",
         "type": "float"
        },
        {
         "name": "DiabetesPedigreeFunction",
         "rawType": "float64",
         "type": "float"
        },
        {
         "name": "Age",
         "rawType": "int64",
         "type": "integer"
        },
        {
         "name": "Outcome",
         "rawType": "int64",
         "type": "integer"
        }
       ],
       "conversionMethod": "pd.DataFrame",
       "ref": "3e76c580-e39f-43fe-8e1b-b3c5a36f6271",
       "rows": [
        [
         "0",
         "6",
         "148",
         "72",
         "35",
         "0",
         "33.6",
         "0.627",
         "50",
         "1"
        ],
        [
         "1",
         "1",
         "85",
         "66",
         "29",
         "0",
         "26.6",
         "0.351",
         "31",
         "0"
        ],
        [
         "2",
         "8",
         "183",
         "64",
         "0",
         "0",
         "23.3",
         "0.672",
         "32",
         "1"
        ],
        [
         "3",
         "1",
         "89",
         "66",
         "23",
         "94",
         "28.1",
         "0.167",
         "21",
         "0"
        ],
        [
         "4",
         "0",
         "137",
         "40",
         "35",
         "168",
         "43.1",
         "2.288",
         "33",
         "1"
        ]
       ],
       "shape": {
        "columns": 9,
        "rows": 5
       }
      },
      "text/html": [
       "<div>\n",
       "<style scoped>\n",
       "    .dataframe tbody tr th:only-of-type {\n",
       "        vertical-align: middle;\n",
       "    }\n",
       "\n",
       "    .dataframe tbody tr th {\n",
       "        vertical-align: top;\n",
       "    }\n",
       "\n",
       "    .dataframe thead th {\n",
       "        text-align: right;\n",
       "    }\n",
       "</style>\n",
       "<table border=\"1\" class=\"dataframe\">\n",
       "  <thead>\n",
       "    <tr style=\"text-align: right;\">\n",
       "      <th></th>\n",
       "      <th>Pregnancies</th>\n",
       "      <th>Glucose</th>\n",
       "      <th>BloodPressure</th>\n",
       "      <th>SkinThickness</th>\n",
       "      <th>Insulin</th>\n",
       "      <th>BMI</th>\n",
       "      <th>DiabetesPedigreeFunction</th>\n",
       "      <th>Age</th>\n",
       "      <th>Outcome</th>\n",
       "    </tr>\n",
       "  </thead>\n",
       "  <tbody>\n",
       "    <tr>\n",
       "      <th>0</th>\n",
       "      <td>6</td>\n",
       "      <td>148</td>\n",
       "      <td>72</td>\n",
       "      <td>35</td>\n",
       "      <td>0</td>\n",
       "      <td>33.6</td>\n",
       "      <td>0.627</td>\n",
       "      <td>50</td>\n",
       "      <td>1</td>\n",
       "    </tr>\n",
       "    <tr>\n",
       "      <th>1</th>\n",
       "      <td>1</td>\n",
       "      <td>85</td>\n",
       "      <td>66</td>\n",
       "      <td>29</td>\n",
       "      <td>0</td>\n",
       "      <td>26.6</td>\n",
       "      <td>0.351</td>\n",
       "      <td>31</td>\n",
       "      <td>0</td>\n",
       "    </tr>\n",
       "    <tr>\n",
       "      <th>2</th>\n",
       "      <td>8</td>\n",
       "      <td>183</td>\n",
       "      <td>64</td>\n",
       "      <td>0</td>\n",
       "      <td>0</td>\n",
       "      <td>23.3</td>\n",
       "      <td>0.672</td>\n",
       "      <td>32</td>\n",
       "      <td>1</td>\n",
       "    </tr>\n",
       "    <tr>\n",
       "      <th>3</th>\n",
       "      <td>1</td>\n",
       "      <td>89</td>\n",
       "      <td>66</td>\n",
       "      <td>23</td>\n",
       "      <td>94</td>\n",
       "      <td>28.1</td>\n",
       "      <td>0.167</td>\n",
       "      <td>21</td>\n",
       "      <td>0</td>\n",
       "    </tr>\n",
       "    <tr>\n",
       "      <th>4</th>\n",
       "      <td>0</td>\n",
       "      <td>137</td>\n",
       "      <td>40</td>\n",
       "      <td>35</td>\n",
       "      <td>168</td>\n",
       "      <td>43.1</td>\n",
       "      <td>2.288</td>\n",
       "      <td>33</td>\n",
       "      <td>1</td>\n",
       "    </tr>\n",
       "  </tbody>\n",
       "</table>\n",
       "</div>"
      ],
      "text/plain": [
       "   Pregnancies  Glucose  BloodPressure  SkinThickness  Insulin   BMI  \\\n",
       "0            6      148             72             35        0  33.6   \n",
       "1            1       85             66             29        0  26.6   \n",
       "2            8      183             64              0        0  23.3   \n",
       "3            1       89             66             23       94  28.1   \n",
       "4            0      137             40             35      168  43.1   \n",
       "\n",
       "   DiabetesPedigreeFunction  Age  Outcome  \n",
       "0                     0.627   50        1  \n",
       "1                     0.351   31        0  \n",
       "2                     0.672   32        1  \n",
       "3                     0.167   21        0  \n",
       "4                     2.288   33        1  "
      ]
     },
     "execution_count": 3,
     "metadata": {},
     "output_type": "execute_result"
    }
   ],
   "source": [
    "pima.head()"
   ]
  },
  {
   "cell_type": "code",
   "execution_count": 4,
   "metadata": {
    "id": "qE-4nufIBHfn"
   },
   "outputs": [
    {
     "name": "stdout",
     "output_type": "stream",
     "text": [
      "<class 'pandas.core.frame.DataFrame'>\n",
      "RangeIndex: 768 entries, 0 to 767\n",
      "Data columns (total 9 columns):\n",
      " #   Column                    Non-Null Count  Dtype  \n",
      "---  ------                    --------------  -----  \n",
      " 0   Pregnancies               768 non-null    int64  \n",
      " 1   Glucose                   768 non-null    int64  \n",
      " 2   BloodPressure             768 non-null    int64  \n",
      " 3   SkinThickness             768 non-null    int64  \n",
      " 4   Insulin                   768 non-null    int64  \n",
      " 5   BMI                       768 non-null    float64\n",
      " 6   DiabetesPedigreeFunction  768 non-null    float64\n",
      " 7   Age                       768 non-null    int64  \n",
      " 8   Outcome                   768 non-null    int64  \n",
      "dtypes: float64(2), int64(7)\n",
      "memory usage: 54.1 KB\n"
     ]
    }
   ],
   "source": [
    "pima.info();"
   ]
  },
  {
   "cell_type": "code",
   "execution_count": 5,
   "metadata": {
    "id": "zCPazzlCBHfo"
   },
   "outputs": [],
   "source": [
    "df_2 = pima[pima['Outcome']==1.0];\n",
    "df_2 = df_2.iloc[:, 0:-1]"
   ]
  },
  {
   "cell_type": "code",
   "execution_count": 6,
   "metadata": {
    "id": "Ny_-AX76BHfo"
   },
   "outputs": [
    {
     "data": {
      "text/html": [
       "<table class=\"simpletable\">\n",
       "<caption>OLS Regression Results</caption>\n",
       "<tr>\n",
       "  <th>Dep. Variable:</th>         <td>Insulin</td>     <th>  R-squared:         </th> <td>   0.068</td>\n",
       "</tr>\n",
       "<tr>\n",
       "  <th>Model:</th>                   <td>OLS</td>       <th>  Adj. R-squared:    </th> <td>   0.065</td>\n",
       "</tr>\n",
       "<tr>\n",
       "  <th>Method:</th>             <td>Least Squares</td>  <th>  F-statistic:       </th> <td>   19.50</td>\n",
       "</tr>\n",
       "<tr>\n",
       "  <th>Date:</th>             <td>Thu, 24 Apr 2025</td> <th>  Prob (F-statistic):</th> <td>1.46e-05</td>\n",
       "</tr>\n",
       "<tr>\n",
       "  <th>Time:</th>                 <td>19:21:34</td>     <th>  Log-Likelihood:    </th> <td> -1692.1</td>\n",
       "</tr>\n",
       "<tr>\n",
       "  <th>No. Observations:</th>      <td>   268</td>      <th>  AIC:               </th> <td>   3388.</td>\n",
       "</tr>\n",
       "<tr>\n",
       "  <th>Df Residuals:</th>          <td>   266</td>      <th>  BIC:               </th> <td>   3395.</td>\n",
       "</tr>\n",
       "<tr>\n",
       "  <th>Df Model:</th>              <td>     1</td>      <th>                     </th>     <td> </td>   \n",
       "</tr>\n",
       "<tr>\n",
       "  <th>Covariance Type:</th>      <td>nonrobust</td>    <th>                     </th>     <td> </td>   \n",
       "</tr>\n",
       "</table>\n",
       "<table class=\"simpletable\">\n",
       "<tr>\n",
       "     <td></td>        <th>coef</th>     <th>std err</th>      <th>t</th>      <th>P>|t|</th>  <th>[0.025</th>    <th>0.975]</th>  \n",
       "</tr>\n",
       "<tr>\n",
       "  <th>const</th>   <td>  -59.9798</td> <td>   37.214</td> <td>   -1.612</td> <td> 0.108</td> <td> -133.251</td> <td>   13.292</td>\n",
       "</tr>\n",
       "<tr>\n",
       "  <th>Glucose</th> <td>    1.1349</td> <td>    0.257</td> <td>    4.416</td> <td> 0.000</td> <td>    0.629</td> <td>    1.641</td>\n",
       "</tr>\n",
       "</table>\n",
       "<table class=\"simpletable\">\n",
       "<tr>\n",
       "  <th>Omnibus:</th>       <td>92.767</td> <th>  Durbin-Watson:     </th> <td>   2.036</td>\n",
       "</tr>\n",
       "<tr>\n",
       "  <th>Prob(Omnibus):</th> <td> 0.000</td> <th>  Jarque-Bera (JB):  </th> <td> 254.373</td>\n",
       "</tr>\n",
       "<tr>\n",
       "  <th>Skew:</th>          <td> 1.578</td> <th>  Prob(JB):          </th> <td>5.80e-56</td>\n",
       "</tr>\n",
       "<tr>\n",
       "  <th>Kurtosis:</th>      <td> 6.581</td> <th>  Cond. No.          </th> <td>    658.</td>\n",
       "</tr>\n",
       "</table><br/><br/>Notes:<br/>[1] Standard Errors assume that the covariance matrix of the errors is correctly specified."
      ],
      "text/latex": [
       "\\begin{center}\n",
       "\\begin{tabular}{lclc}\n",
       "\\toprule\n",
       "\\textbf{Dep. Variable:}    &     Insulin      & \\textbf{  R-squared:         } &     0.068   \\\\\n",
       "\\textbf{Model:}            &       OLS        & \\textbf{  Adj. R-squared:    } &     0.065   \\\\\n",
       "\\textbf{Method:}           &  Least Squares   & \\textbf{  F-statistic:       } &     19.50   \\\\\n",
       "\\textbf{Date:}             & Thu, 24 Apr 2025 & \\textbf{  Prob (F-statistic):} &  1.46e-05   \\\\\n",
       "\\textbf{Time:}             &     19:21:34     & \\textbf{  Log-Likelihood:    } &   -1692.1   \\\\\n",
       "\\textbf{No. Observations:} &         268      & \\textbf{  AIC:               } &     3388.   \\\\\n",
       "\\textbf{Df Residuals:}     &         266      & \\textbf{  BIC:               } &     3395.   \\\\\n",
       "\\textbf{Df Model:}         &           1      & \\textbf{                     } &             \\\\\n",
       "\\textbf{Covariance Type:}  &    nonrobust     & \\textbf{                     } &             \\\\\n",
       "\\bottomrule\n",
       "\\end{tabular}\n",
       "\\begin{tabular}{lcccccc}\n",
       "                 & \\textbf{coef} & \\textbf{std err} & \\textbf{t} & \\textbf{P$> |$t$|$} & \\textbf{[0.025} & \\textbf{0.975]}  \\\\\n",
       "\\midrule\n",
       "\\textbf{const}   &     -59.9798  &       37.214     &    -1.612  &         0.108        &     -133.251    &       13.292     \\\\\n",
       "\\textbf{Glucose} &       1.1349  &        0.257     &     4.416  &         0.000        &        0.629    &        1.641     \\\\\n",
       "\\bottomrule\n",
       "\\end{tabular}\n",
       "\\begin{tabular}{lclc}\n",
       "\\textbf{Omnibus:}       & 92.767 & \\textbf{  Durbin-Watson:     } &    2.036  \\\\\n",
       "\\textbf{Prob(Omnibus):} &  0.000 & \\textbf{  Jarque-Bera (JB):  } &  254.373  \\\\\n",
       "\\textbf{Skew:}          &  1.578 & \\textbf{  Prob(JB):          } & 5.80e-56  \\\\\n",
       "\\textbf{Kurtosis:}      &  6.581 & \\textbf{  Cond. No.          } &     658.  \\\\\n",
       "\\bottomrule\n",
       "\\end{tabular}\n",
       "%\\caption{OLS Regression Results}\n",
       "\\end{center}\n",
       "\n",
       "Notes: \\newline\n",
       " [1] Standard Errors assume that the covariance matrix of the errors is correctly specified."
      ],
      "text/plain": [
       "<class 'statsmodels.iolib.summary.Summary'>\n",
       "\"\"\"\n",
       "                            OLS Regression Results                            \n",
       "==============================================================================\n",
       "Dep. Variable:                Insulin   R-squared:                       0.068\n",
       "Model:                            OLS   Adj. R-squared:                  0.065\n",
       "Method:                 Least Squares   F-statistic:                     19.50\n",
       "Date:                Thu, 24 Apr 2025   Prob (F-statistic):           1.46e-05\n",
       "Time:                        19:21:34   Log-Likelihood:                -1692.1\n",
       "No. Observations:                 268   AIC:                             3388.\n",
       "Df Residuals:                     266   BIC:                             3395.\n",
       "Df Model:                           1                                         \n",
       "Covariance Type:            nonrobust                                         \n",
       "==============================================================================\n",
       "                 coef    std err          t      P>|t|      [0.025      0.975]\n",
       "------------------------------------------------------------------------------\n",
       "const        -59.9798     37.214     -1.612      0.108    -133.251      13.292\n",
       "Glucose        1.1349      0.257      4.416      0.000       0.629       1.641\n",
       "==============================================================================\n",
       "Omnibus:                       92.767   Durbin-Watson:                   2.036\n",
       "Prob(Omnibus):                  0.000   Jarque-Bera (JB):              254.373\n",
       "Skew:                           1.578   Prob(JB):                     5.80e-56\n",
       "Kurtosis:                       6.581   Cond. No.                         658.\n",
       "==============================================================================\n",
       "\n",
       "Notes:\n",
       "[1] Standard Errors assume that the covariance matrix of the errors is correctly specified.\n",
       "\"\"\""
      ]
     },
     "execution_count": 6,
     "metadata": {},
     "output_type": "execute_result"
    }
   ],
   "source": [
    "import statsmodels.api as sm\n",
    "\n",
    "## Construya un modelo de regresión lineal simple donde el nivel de insulina se explique por el nivel de glucosa del paciente.\n",
    "\n",
    "independent = 'Glucose'\n",
    "feature_cols = [independent]\n",
    "X = df_2[feature_cols] # Características (variables independientes)\n",
    "y = df_2.Insulin # Variable objetivo\n",
    "\n",
    "## Añade intercepto/constante\n",
    "X = sm.add_constant(X)\n",
    "model = sm.OLS(y, X).fit()\n",
    "model.summary()"
   ]
  },
  {
   "cell_type": "markdown",
   "metadata": {},
   "source": [
    "### Cleaning data"
   ]
  },
  {
   "cell_type": "code",
   "execution_count": 8,
   "metadata": {},
   "outputs": [
    {
     "name": "stdout",
     "output_type": "stream",
     "text": [
      "<class 'pandas.core.frame.DataFrame'>\n",
      "Index: 392 entries, 3 to 765\n",
      "Data columns (total 9 columns):\n",
      " #   Column                    Non-Null Count  Dtype  \n",
      "---  ------                    --------------  -----  \n",
      " 0   Pregnancies               392 non-null    int64  \n",
      " 1   Glucose                   392 non-null    float64\n",
      " 2   BloodPressure             392 non-null    float64\n",
      " 3   SkinThickness             392 non-null    float64\n",
      " 4   Insulin                   392 non-null    float64\n",
      " 5   BMI                       392 non-null    float64\n",
      " 6   DiabetesPedigreeFunction  392 non-null    float64\n",
      " 7   Age                       392 non-null    int64  \n",
      " 8   Outcome                   392 non-null    int64  \n",
      "dtypes: float64(6), int64(3)\n",
      "memory usage: 30.6 KB\n",
      "<class 'pandas.core.frame.DataFrame'>\n",
      "Index: 130 entries, 4 to 755\n",
      "Data columns (total 8 columns):\n",
      " #   Column                    Non-Null Count  Dtype  \n",
      "---  ------                    --------------  -----  \n",
      " 0   Pregnancies               130 non-null    int64  \n",
      " 1   Glucose                   130 non-null    float64\n",
      " 2   BloodPressure             130 non-null    float64\n",
      " 3   SkinThickness             130 non-null    float64\n",
      " 4   Insulin                   130 non-null    float64\n",
      " 5   BMI                       130 non-null    float64\n",
      " 6   DiabetesPedigreeFunction  130 non-null    float64\n",
      " 7   Age                       130 non-null    int64  \n",
      "dtypes: float64(6), int64(2)\n",
      "memory usage: 9.1 KB\n"
     ]
    }
   ],
   "source": [
    "# Replace zeros with NaN in relevant columns\n",
    "cols_with_missing = ['Glucose', 'BloodPressure', 'SkinThickness', 'Insulin', 'BMI']\n",
    "pima[cols_with_missing] = pima[cols_with_missing].replace(0, np.nan)\n",
    "\n",
    "# Drop rows with any missing values\n",
    "pima_clean = pima.dropna()\n",
    "\n",
    "# Update df_2 to use the cleaned data for Outcome == 1\n",
    "df_2 = pima_clean[pima_clean['Outcome'] == 1.0].iloc[:, 0:-1]\n",
    "\n",
    "# Show info of cleaned data\n",
    "pima_clean.info()\n",
    "df_2.info()"
   ]
  },
  {
   "cell_type": "markdown",
   "metadata": {
    "id": "YHcwX86NBHfp"
   },
   "source": [
    "### Gráficos de residuos"
   ]
  },
  {
   "cell_type": "code",
   "execution_count": 9,
   "metadata": {
    "id": "sgUlZulaBHfp"
   },
   "outputs": [
    {
     "data": {
      "image/png": "[encoded data removed]",
      "text/plain": [
       "<Figure size 1200x800 with 4 Axes>"
      ]
     },
     "metadata": {},
     "output_type": "display_data"
    }
   ],
   "source": [
    "## Grafica los residuos del modelo\n",
    "## https://www.statsmodels.org/v0.10.2/generated/statsmodels.graphics.regressionplots.plot_regress_exog.html\n",
    "## https://www.statsmodels.org/devel/examples/notebooks/generated/regression_plots.html\n",
    "\n",
    "# Define el tamaño de la figura\n",
    "fig = plt.figure(figsize=(12,8))\n",
    "\n",
    "# Produce gráficas de regresión\n",
    "fig = sm.graphics.plot_regress_exog(model, independent, fig=fig)"
   ]
  },
  {
   "cell_type": "markdown",
   "metadata": {
    "id": "NCHiPefeBHfq"
   },
   "source": [
    "#### Responda las siguientes preguntas:\n",
    "- ¿El modelo muestra homocedasticidad?\n",
    "\n",
    "Que un modelo muestre homocedasticidad significa que la varianza de los errores es constante a lo largo de todas las predicciones. En nuestro caso los residuos parecen aumentar a medida que el valor de la predicción aumenta, lo que indica que los datos no muestran homocedasticidad."
   ]
  },
  {
   "cell_type": "markdown",
   "metadata": {
    "id": "e_xAoyhMBHfq"
   },
   "source": [
    "### Práctica 2: Modelos de regresión simple\n",
    "- Entrene otros cuatro modelos de regresión simple (IMC, Edad, Grosor de la piel, Función Pedigrí de la Diabetes)\n",
    "- Dibuje los residuos de cada modelo\n",
    "- Elija el mejor modelo\n"
   ]
  },
  {
   "cell_type": "code",
   "execution_count": null,
   "metadata": {
    "id": "4fCCUTDWBHfq"
   },
   "outputs": [],
   "source": [
    "## Entrene el modelo usando el IMC para predecir la insulina.\n"
   ]
  },
  {
   "cell_type": "code",
   "execution_count": null,
   "metadata": {
    "id": "K1m6y0KFBHfr"
   },
   "outputs": [],
   "source": [
    "## Dibuje los residuos del modelo que usa el IMC para predecir la insulina.\n"
   ]
  },
  {
   "cell_type": "code",
   "execution_count": null,
   "metadata": {
    "id": "swQpzCd1BHfr"
   },
   "outputs": [],
   "source": [
    "## Entrene el modelo usando la Edad para predecir la insulina.\n"
   ]
  },
  {
   "cell_type": "code",
   "execution_count": null,
   "metadata": {
    "id": "rkg1-TzNBHfr"
   },
   "outputs": [],
   "source": [
    "## Dibuje los residuos del modelo que usa la Edad para predecir la insulina.\n"
   ]
  },
  {
   "cell_type": "code",
   "execution_count": null,
   "metadata": {
    "id": "EYGd6YVqBHfr"
   },
   "outputs": [],
   "source": [
    "## Entrene el modelo usando el Grosor de la piel para predecir la insulina.\n"
   ]
  },
  {
   "cell_type": "code",
   "execution_count": null,
   "metadata": {
    "id": "IXQXWAP9BHfs"
   },
   "outputs": [],
   "source": [
    "## Dibuje los residuos del modelo que usa el Grosor de la piel para predecir la insulina.\n"
   ]
  },
  {
   "cell_type": "code",
   "execution_count": null,
   "metadata": {
    "id": "oiDFFO8-BHfs"
   },
   "outputs": [],
   "source": [
    "## Entrene el modelo usando DiabetesPedigreeFunction para predecir la insulina.\n"
   ]
  },
  {
   "cell_type": "code",
   "execution_count": null,
   "metadata": {
    "id": "Pv_WziDWBHfs"
   },
   "outputs": [],
   "source": [
    "## Dibuje los residuos del modelo que usa DiabetesPedigreeFunction para predecir la insulina.\n"
   ]
  },
  {
   "cell_type": "markdown",
   "metadata": {
    "id": "0jUcNfRdBHfs"
   },
   "source": [
    "#### El mejor modelo es el que usa __ para predecir la insulina. Su R² es __ y todos sus coeficientes son significativos."
   ]
  },
  {
   "cell_type": "markdown",
   "metadata": {
    "id": "IstAGoAXBHft"
   },
   "source": [
    "## Regresión lineal múltiple\n",
    "\n"
   ]
  },
  {
   "cell_type": "code",
   "execution_count": null,
   "metadata": {
    "id": "duaAuMkyBHft"
   },
   "outputs": [],
   "source": [
    "## Construya un modelo de regresión lineal múltiple con todas las variables.\n",
    "feature_cols = [ 'Glucose', 'BMI', 'Age','DiabetesPedigreeFunction','SkinThickness','Pregnancies','BloodPressure']\n",
    "\n",
    "df_3 = df_2\n",
    "\n",
    "X = df_3[feature_cols] # Características (variables independientes)\n",
    "y = df_3.Insulin # Variable objetivo"
   ]
  },
  {
   "cell_type": "code",
   "execution_count": null,
   "metadata": {
    "id": "NeqEpKWjBHft"
   },
   "outputs": [],
   "source": [
    "import statsmodels.api as sm\n",
    "X = sm.add_constant(X)\n",
    "est = sm.OLS(y, X).fit()\n",
    "est.summary()"
   ]
  },
  {
   "cell_type": "markdown",
   "metadata": {
    "id": "ioe2aLV5BHft"
   },
   "source": [
    "#### Responda las siguientes preguntas:\n",
    "- ¿Son significativos todos los coeficientes?\n",
    "- ¿Existe evidencia de multicolinealidad?"
   ]
  },
  {
   "cell_type": "markdown",
   "metadata": {
    "id": "iAETrelIBHft"
   },
   "source": [
    "### Eliminación la multicolinealidad"
   ]
  },
  {
   "cell_type": "code",
   "execution_count": null,
   "metadata": {
    "id": "9FUpbViTBHfu"
   },
   "outputs": [],
   "source": [
    "## Reordena las columnas estableciendo \"Insulina\" como última columna\n",
    "df_3 = df_3[['Glucose', 'BMI', 'Age','DiabetesPedigreeFunction','SkinThickness','Pregnancies','BloodPressure','Insulin']]\n"
   ]
  },
  {
   "cell_type": "code",
   "execution_count": null,
   "metadata": {
    "id": "dC9THIsuBHfu"
   },
   "outputs": [],
   "source": [
    "## Identifica la colinealidad de cada predictor mediante VIF\n",
    "\n",
    "from statsmodels.stats.outliers_influence import variance_inflation_factor as vif\n",
    "\n",
    "## Imprimir el coeficiente VIF del dataframe, excepto el de la última columna.\n",
    "## Un VIF > 10 indica alta multicolinealidad\n",
    "def printVIF(df):\n",
    "    for i in range(len(df.columns[:-1])):\n",
    "        v = vif(np.matrix(df[:-1]),i)\n",
    "        print(\"VIF for {}: {}\".format(df.columns[i],round(v,2)))\n"
   ]
  },
  {
   "cell_type": "code",
   "execution_count": null,
   "metadata": {
    "id": "fJlSbgMlBHfu"
   },
   "outputs": [],
   "source": [
    "printVIF(df_3)"
   ]
  },
  {
   "cell_type": "markdown",
   "metadata": {
    "id": "GNT__g_pBHfv"
   },
   "source": [
    "#### Responda las siguientes preguntas:\n",
    "- ¿Qué variables tienen un VIF superior a 10?\n",
    "- ¿Qué variables con un valor p alto deberían eliminarse?\n",
    "- ¿Qué variables recomendaría VIF eliminar?"
   ]
  },
  {
   "cell_type": "code",
   "execution_count": null,
   "metadata": {
    "id": "9pwzZcBABHfv"
   },
   "outputs": [],
   "source": [
    "# Elimina la presión arterial\n",
    "df_4 = df_3[['Glucose', 'BMI', 'Age','DiabetesPedigreeFunction','SkinThickness','Pregnancies','Insulin']]\n",
    "\n",
    "printVIF(df_4)"
   ]
  },
  {
   "cell_type": "code",
   "execution_count": null,
   "metadata": {
    "id": "N2miFDOtBHfv"
   },
   "outputs": [],
   "source": [
    "# Elimina la glucosa\n",
    "df_4 = df_3[['BMI', 'Age','DiabetesPedigreeFunction','SkinThickness','Pregnancies','Insulin']]\n",
    "\n",
    "printVIF(df_4)"
   ]
  },
  {
   "cell_type": "markdown",
   "metadata": {
    "id": "ud7J1xRDBHfw"
   },
   "source": [
    "#### Responda las siguientes preguntas:\n",
    "- ¿Por qué cambian todos los coeficientes VIF al eliminar una característica?\n",
    "- ¿Podríamos entrenar un modelo sin multicolinealidad con estas 5 variables?"
   ]
  },
  {
   "cell_type": "code",
   "execution_count": null,
   "metadata": {
    "id": "ko1InmWmBHfw"
   },
   "outputs": [],
   "source": [
    "feature_cols = ['BMI', 'Age','DiabetesPedigreeFunction','SkinThickness','Pregnancies']\n",
    "X = df_4[feature_cols] # Características (variables independientes)\n",
    "y = df_4.Insulin # Variable objetivo\n",
    "\n",
    "X = sm.add_constant(X)\n",
    "est = sm.OLS(y, X).fit()\n",
    "est.summary()"
   ]
  },
  {
   "cell_type": "markdown",
   "metadata": {
    "id": "qnhL-xy-BHfw"
   },
   "source": [
    "#### Responda las siguientes preguntas:\n",
    "- ¿Sigue existiendo multicolinealidad?\n",
    "- ¿Son significativos todos los coeficientes?\n",
    "- ¿Es significativa la intersección con el eje X?\n",
    "- ¿Qué variable deberíamos eliminar a continuación?"
   ]
  },
  {
   "cell_type": "code",
   "execution_count": null,
   "metadata": {
    "id": "SRTv9BToBHfw"
   },
   "outputs": [],
   "source": [
    "## Eliminar DiabetesPedigreeFunction\n",
    "feature_cols = ['BMI', 'Age','SkinThickness','Pregnancies']\n",
    "X = df_4[feature_cols] # Features (independent variables)\n",
    "y = df_4.Insulin # Target variable\n",
    "\n",
    "X = sm.add_constant(X)\n",
    "est = sm.OLS(y, X).fit()\n",
    "est.summary()"
   ]
  },
  {
   "cell_type": "code",
   "execution_count": null,
   "metadata": {
    "id": "_8K6nWpYBHfx"
   },
   "outputs": [],
   "source": [
    "## Eliminar embarazos\n",
    "feature_cols = ['BMI', 'SkinThickness','Age']\n",
    "X = df_4[feature_cols] # Características (variables independientes)\n",
    "y = df_4.Insulin # Variable objetivo\n",
    "\n",
    "X = sm.add_constant(X)\n",
    "est = sm.OLS(y, X).fit()\n",
    "est.summary()"
   ]
  },
  {
   "cell_type": "code",
   "execution_count": null,
   "metadata": {
    "id": "x1Nw3r-3BHfx"
   },
   "outputs": [],
   "source": [
    "## Eliminar el intercepto\n",
    "feature_cols = ['BMI', 'SkinThickness','Age']\n",
    "X = df_4[feature_cols] # Características (variables independientes)\n",
    "y = df_4.Insulin # Variable objetivo\n",
    "\n",
    "#X = sm.add_constant(X)\n",
    "est = sm.OLS(y, X).fit()\n",
    "est.summary()"
   ]
  },
  {
   "cell_type": "code",
   "execution_count": null,
   "metadata": {
    "id": "nH0NX4-TBHf4"
   },
   "outputs": [],
   "source": [
    "## Eliminar el IMC\n",
    "feature_cols = ['SkinThickness','Age']\n",
    "X = df_4[feature_cols] # Características (variables independientes)\n",
    "y = df_4.Insulin # Variable objetivo\n",
    "\n",
    "#X = sm.add_constant(X)\n",
    "est = sm.OLS(y, X).fit()\n",
    "est.summary()"
   ]
  },
  {
   "cell_type": "markdown",
   "metadata": {
    "id": "KS0MVeweBHf4"
   },
   "source": [
    "#### Answer the following questions:\n",
    "#### Responda las siguientes preguntas:\n",
    "- ¿Es significativo este modelo?\n",
    "- ¿Podemos usarlo para predecir el nivel de insulina?\n",
    "- ¿Cómo es la ecuación del modelo?\n",
    "- Revise la evolución del error"
   ]
  },
  {
   "cell_type": "markdown",
   "metadata": {
    "id": "-V6q-5_7BHf4"
   },
   "source": [
    "### Selección de características\n",
    "\n"
   ]
  },
  {
   "cell_type": "markdown",
   "metadata": {
    "id": "3lzMTmg7BHf6"
   },
   "source": [
    "#### Haga modelos con Ridge, LASSO y Elastic Net (con validación cruzada).\n",
    "#### Conteste las siguientes preguntas:\n",
    "- ¿Cuáles son los 2 mejores modelos?\n",
    "- ¿Cuál de estos modelos es el mejor (de acuerdo al R2 y la F-statistic)?\n",
    "- ¿Cuáles parecen ser los coeficientes más relevantes?"
   ]
  }
 ],
 "metadata": {
  "colab": {
   "provenance": []
  },
  "kernelspec": {
   "display_name": "Python 3",
   "language": "python",
   "name": "python3"
  },
  "language_info": {
   "codemirror_mode": {
    "name": "ipython",
    "version": 3
   },
   "file_extension": ".py",
   "mimetype": "text/x-python",
   "name": "python",
   "nbconvert_exporter": "python",
   "pygments_lexer": "ipython3",
   "version": "3.10.6"
  }
 },
 "nbformat": 4,
 "nbformat_minor": 0
}
