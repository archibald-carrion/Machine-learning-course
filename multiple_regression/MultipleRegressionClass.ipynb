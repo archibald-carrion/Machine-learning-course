{
  "cells": [
    {
      "cell_type": "markdown",
      "metadata": {
        "id": "c5UW_ZpoBHfe"
      },
      "source": [
        "# Regresión"
      ]
    },
    {
      "cell_type": "markdown",
      "metadata": {
        "id": "xXS98ThcBHfi"
      },
      "source": [
        "### Importación de bibliotecas requeridas"
      ]
    },
    {
      "cell_type": "code",
      "execution_count": null,
      "metadata": {
        "id": "4c3rZcWTBHfj"
      },
      "outputs": [],
      "source": [
        "# Cargar bibliotecas\n",
        "import pandas as pd\n",
        "from string import ascii_letters\n",
        "import numpy as np\n",
        "import pandas as pd\n",
        "import seaborn as sns\n",
        "import matplotlib.pyplot as plt"
      ]
    },
    {
      "cell_type": "markdown",
      "metadata": {
        "id": "rJTlOLluBHfl"
      },
      "source": [
        "### Diabetes dataset"
      ]
    },
    {
      "cell_type": "code",
      "execution_count": null,
      "metadata": {
        "id": "VVl7tO53BHfl"
      },
      "outputs": [],
      "source": [
        "# Base de datos de diabetes de la India Pima\n",
        "# Predecir la aparición de diabetes con base en medidas de diagnóstico\n",
        "# https://www.kaggle.com/uciml/pima-indians-diabetes-database (descárguelo)\n",
        "\n",
        "# Cargar conjunto de datos\n",
        "pima = pd.read_csv(\"diabetes.csv\")"
      ]
    },
    {
      "cell_type": "code",
      "execution_count": null,
      "metadata": {
        "id": "Oi7ht54vBHfm"
      },
      "outputs": [],
      "source": [
        "pima.head()"
      ]
    },
    {
      "cell_type": "code",
      "execution_count": null,
      "metadata": {
        "id": "qE-4nufIBHfn"
      },
      "outputs": [],
      "source": [
        "pima.info();"
      ]
    },
    {
      "cell_type": "code",
      "execution_count": null,
      "metadata": {
        "id": "zCPazzlCBHfo"
      },
      "outputs": [],
      "source": [
        "df_2 = pima[pima['Outcome']==1.0];\n",
        "df_2 = df_2.iloc[:, 0:-1]"
      ]
    },
    {
      "cell_type": "code",
      "execution_count": null,
      "metadata": {
        "id": "Ny_-AX76BHfo"
      },
      "outputs": [],
      "source": [
        "import statsmodels.api as sm\n",
        "\n",
        "## Construya un modelo de regresión lineal simple donde el nivel de insulina se explique por el nivel de glucosa del paciente.\n",
        "\n",
        "independent = 'Glucose'\n",
        "feature_cols = [independent]\n",
        "X = df_2[feature_cols] # Características (variables independientes)\n",
        "y = df_2.Insulin # Variable objetivo\n",
        "\n",
        "## Añade intercepto/constante\n",
        "X = sm.add_constant(X)\n",
        "model = sm.OLS(y, X).fit()\n",
        "model.summary()"
      ]
    },
    {
      "cell_type": "markdown",
      "metadata": {
        "id": "YHcwX86NBHfp"
      },
      "source": [
        "### Gráficos de residuos"
      ]
    },
    {
      "cell_type": "code",
      "execution_count": null,
      "metadata": {
        "id": "sgUlZulaBHfp"
      },
      "outputs": [],
      "source": [
        "## Grafica los residuos del modelo\n",
        "## https://www.statsmodels.org/v0.10.2/generated/statsmodels.graphics.regressionplots.plot_regress_exog.html\n",
        "## https://www.statsmodels.org/devel/examples/notebooks/generated/regression_plots.html\n",
        "\n",
        "# Define el tamaño de la figura\n",
        "fig = plt.figure(figsize=(12,8))\n",
        "\n",
        "# Produce gráficas de regresión\n",
        "fig = sm.graphics.plot_regress_exog(model, independent, fig=fig)"
      ]
    },
    {
      "cell_type": "markdown",
      "metadata": {
        "id": "NCHiPefeBHfq"
      },
      "source": [
        "#### Responda las siguientes preguntas:\n",
        "- ¿El modelo muestra homocedasticidad?"
      ]
    },
    {
      "cell_type": "markdown",
      "metadata": {
        "id": "e_xAoyhMBHfq"
      },
      "source": [
        "### Práctica 2: Modelos de regresión simple\n",
        "- Entrene otros cuatro modelos de regresión simple (IMC, Edad, Grosor de la piel, Función Pedigrí de la Diabetes)\n",
        "- Dibuje los residuos de cada modelo\n",
        "- Elija el mejor modelo\n"
      ]
    },
    {
      "cell_type": "code",
      "execution_count": null,
      "metadata": {
        "id": "4fCCUTDWBHfq"
      },
      "outputs": [],
      "source": [
        "## Entrene el modelo usando el IMC para predecir la insulina.\n"
      ]
    },
    {
      "cell_type": "code",
      "execution_count": null,
      "metadata": {
        "id": "K1m6y0KFBHfr"
      },
      "outputs": [],
      "source": [
        "## Dibuje los residuos del modelo que usa el IMC para predecir la insulina.\n"
      ]
    },
    {
      "cell_type": "code",
      "execution_count": null,
      "metadata": {
        "id": "swQpzCd1BHfr"
      },
      "outputs": [],
      "source": [
        "## Entrene el modelo usando la Edad para predecir la insulina.\n"
      ]
    },
    {
      "cell_type": "code",
      "execution_count": null,
      "metadata": {
        "id": "rkg1-TzNBHfr"
      },
      "outputs": [],
      "source": [
        "## Dibuje los residuos del modelo que usa la Edad para predecir la insulina.\n"
      ]
    },
    {
      "cell_type": "code",
      "execution_count": null,
      "metadata": {
        "id": "EYGd6YVqBHfr"
      },
      "outputs": [],
      "source": [
        "## Entrene el modelo usando el Grosor de la piel para predecir la insulina.\n"
      ]
    },
    {
      "cell_type": "code",
      "execution_count": null,
      "metadata": {
        "id": "IXQXWAP9BHfs"
      },
      "outputs": [],
      "source": [
        "## Dibuje los residuos del modelo que usa el Grosor de la piel para predecir la insulina.\n"
      ]
    },
    {
      "cell_type": "code",
      "execution_count": null,
      "metadata": {
        "id": "oiDFFO8-BHfs"
      },
      "outputs": [],
      "source": [
        "## Entrene el modelo usando DiabetesPedigreeFunction para predecir la insulina.\n"
      ]
    },
    {
      "cell_type": "code",
      "execution_count": null,
      "metadata": {
        "id": "Pv_WziDWBHfs"
      },
      "outputs": [],
      "source": [
        "## Dibuje los residuos del modelo que usa DiabetesPedigreeFunction para predecir la insulina.\n"
      ]
    },
    {
      "cell_type": "markdown",
      "metadata": {
        "id": "0jUcNfRdBHfs"
      },
      "source": [
        "#### El mejor modelo es el que usa __ para predecir la insulina. Su R² es __ y todos sus coeficientes son significativos."
      ]
    },
    {
      "cell_type": "markdown",
      "metadata": {
        "id": "IstAGoAXBHft"
      },
      "source": [
        "## Regresión lineal múltiple\n",
        "\n"
      ]
    },
    {
      "cell_type": "code",
      "execution_count": null,
      "metadata": {
        "id": "duaAuMkyBHft"
      },
      "outputs": [],
      "source": [
        "## Construya un modelo de regresión lineal múltiple con todas las variables.\n",
        "feature_cols = [ 'Glucose', 'BMI', 'Age','DiabetesPedigreeFunction','SkinThickness','Pregnancies','BloodPressure']\n",
        "\n",
        "df_3 = df_2\n",
        "\n",
        "X = df_3[feature_cols] # Características (variables independientes)\n",
        "y = df_3.Insulin # Variable objetivo"
      ]
    },
    {
      "cell_type": "code",
      "execution_count": null,
      "metadata": {
        "id": "NeqEpKWjBHft"
      },
      "outputs": [],
      "source": [
        "import statsmodels.api as sm\n",
        "X = sm.add_constant(X)\n",
        "est = sm.OLS(y, X).fit()\n",
        "est.summary()"
      ]
    },
    {
      "cell_type": "markdown",
      "metadata": {
        "id": "ioe2aLV5BHft"
      },
      "source": [
        "#### Responda las siguientes preguntas:\n",
        "- ¿Son significativos todos los coeficientes?\n",
        "- ¿Existe evidencia de multicolinealidad?"
      ]
    },
    {
      "cell_type": "markdown",
      "metadata": {
        "id": "iAETrelIBHft"
      },
      "source": [
        "### Eliminación la multicolinealidad"
      ]
    },
    {
      "cell_type": "code",
      "execution_count": null,
      "metadata": {
        "id": "9FUpbViTBHfu"
      },
      "outputs": [],
      "source": [
        "## Reordena las columnas estableciendo \"Insulina\" como última columna\n",
        "df_3 = df_3[['Glucose', 'BMI', 'Age','DiabetesPedigreeFunction','SkinThickness','Pregnancies','BloodPressure','Insulin']]\n"
      ]
    },
    {
      "cell_type": "code",
      "execution_count": null,
      "metadata": {
        "id": "dC9THIsuBHfu"
      },
      "outputs": [],
      "source": [
        "## Identifica la colinealidad de cada predictor mediante VIF\n",
        "\n",
        "from statsmodels.stats.outliers_influence import variance_inflation_factor as vif\n",
        "\n",
        "## Imprimir el coeficiente VIF del dataframe, excepto el de la última columna.\n",
        "## Un VIF > 10 indica alta multicolinealidad\n",
        "def printVIF(df):\n",
        "    for i in range(len(df.columns[:-1])):\n",
        "        v = vif(np.matrix(df[:-1]),i)\n",
        "        print(\"VIF for {}: {}\".format(df.columns[i],round(v,2)))\n",
        ""
      ]
    },
    {
      "cell_type": "code",
      "execution_count": null,
      "metadata": {
        "id": "fJlSbgMlBHfu"
      },
      "outputs": [],
      "source": [
        "printVIF(df_3)"
      ]
    },
    {
      "cell_type": "markdown",
      "metadata": {
        "id": "GNT__g_pBHfv"
      },
      "source": [
        "#### Responda las siguientes preguntas:\n",
        "- ¿Qué variables tienen un VIF superior a 10?\n",
        "- ¿Qué variables con un valor p alto deberían eliminarse?\n",
        "- ¿Qué variables recomendaría VIF eliminar?"
      ]
    },
    {
      "cell_type": "code",
      "execution_count": null,
      "metadata": {
        "id": "9pwzZcBABHfv"
      },
      "outputs": [],
      "source": [
        "# Elimina la presión arterial\n",
        "df_4 = df_3[['Glucose', 'BMI', 'Age','DiabetesPedigreeFunction','SkinThickness','Pregnancies','Insulin']]\n",
        "\n",
        "printVIF(df_4)"
      ]
    },
    {
      "cell_type": "code",
      "execution_count": null,
      "metadata": {
        "id": "N2miFDOtBHfv"
      },
      "outputs": [],
      "source": [
        "# Elimina la glucosa\n",
        "df_4 = df_3[['BMI', 'Age','DiabetesPedigreeFunction','SkinThickness','Pregnancies','Insulin']]\n",
        "\n",
        "printVIF(df_4)"
      ]
    },
    {
      "cell_type": "markdown",
      "metadata": {
        "id": "ud7J1xRDBHfw"
      },
      "source": [
        "#### Responda las siguientes preguntas:\n",
        "- ¿Por qué cambian todos los coeficientes VIF al eliminar una característica?\n",
        "- ¿Podríamos entrenar un modelo sin multicolinealidad con estas 5 variables?"
      ]
    },
    {
      "cell_type": "code",
      "execution_count": null,
      "metadata": {
        "id": "ko1InmWmBHfw"
      },
      "outputs": [],
      "source": [
        "feature_cols = ['BMI', 'Age','DiabetesPedigreeFunction','SkinThickness','Pregnancies']\n",
        "X = df_4[feature_cols] # Características (variables independientes)\n",
        "y = df_4.Insulin # Variable objetivo\n",
        "\n",
        "X = sm.add_constant(X)\n",
        "est = sm.OLS(y, X).fit()\n",
        "est.summary()"
      ]
    },
    {
      "cell_type": "markdown",
      "metadata": {
        "id": "qnhL-xy-BHfw"
      },
      "source": [
        "#### Responda las siguientes preguntas:\n",
        "- ¿Sigue existiendo multicolinealidad?\n",
        "- ¿Son significativos todos los coeficientes?\n",
        "- ¿Es significativa la intersección con el eje X?\n",
        "- ¿Qué variable deberíamos eliminar a continuación?"
      ]
    },
    {
      "cell_type": "code",
      "execution_count": null,
      "metadata": {
        "id": "SRTv9BToBHfw"
      },
      "outputs": [],
      "source": [
        "## Eliminar DiabetesPedigreeFunction\n",
        "feature_cols = ['BMI', 'Age','SkinThickness','Pregnancies']\n",
        "X = df_4[feature_cols] # Features (independent variables)\n",
        "y = df_4.Insulin # Target variable\n",
        "\n",
        "X = sm.add_constant(X)\n",
        "est = sm.OLS(y, X).fit()\n",
        "est.summary()"
      ]
    },
    {
      "cell_type": "code",
      "execution_count": null,
      "metadata": {
        "id": "_8K6nWpYBHfx"
      },
      "outputs": [],
      "source": [
        "## Eliminar embarazos\n",
        "feature_cols = ['BMI', 'SkinThickness','Age']\n",
        "X = df_4[feature_cols] # Características (variables independientes)\n",
        "y = df_4.Insulin # Variable objetivo\n",
        "\n",
        "X = sm.add_constant(X)\n",
        "est = sm.OLS(y, X).fit()\n",
        "est.summary()"
      ]
    },
    {
      "cell_type": "code",
      "execution_count": null,
      "metadata": {
        "id": "x1Nw3r-3BHfx"
      },
      "outputs": [],
      "source": [
        "## Eliminar el intercepto\n",
        "feature_cols = ['BMI', 'SkinThickness','Age']\n",
        "X = df_4[feature_cols] # Características (variables independientes)\n",
        "y = df_4.Insulin # Variable objetivo\n",
        "\n",
        "#X = sm.add_constant(X)\n",
        "est = sm.OLS(y, X).fit()\n",
        "est.summary()"
      ]
    },
    {
      "cell_type": "code",
      "execution_count": null,
      "metadata": {
        "id": "nH0NX4-TBHf4"
      },
      "outputs": [],
      "source": [
        "## Eliminar el IMC\n",
        "feature_cols = ['SkinThickness','Age']\n",
        "X = df_4[feature_cols] # Características (variables independientes)\n",
        "y = df_4.Insulin # Variable objetivo\n",
        "\n",
        "#X = sm.add_constant(X)\n",
        "est = sm.OLS(y, X).fit()\n",
        "est.summary()"
      ]
    },
    {
      "cell_type": "markdown",
      "metadata": {
        "id": "KS0MVeweBHf4"
      },
      "source": [
        "#### Answer the following questions:\n",
        "#### Responda las siguientes preguntas:\n",
        "- ¿Es significativo este modelo?\n",
        "- ¿Podemos usarlo para predecir el nivel de insulina?\n",
        "- ¿Cómo es la ecuación del modelo?\n",
        "- Revise la evolución del error"
      ]
    },
    {
      "cell_type": "markdown",
      "metadata": {
        "id": "-V6q-5_7BHf4"
      },
      "source": [
        "### Selección de características\n",
        "\n"
      ]
    },
    {
      "cell_type": "markdown",
      "metadata": {
        "id": "3lzMTmg7BHf6"
      },
      "source": [
        "#### Haga modelos con Ridge, LASSO y Elastic Net (con validación cruzada).\n",
        "#### Conteste las siguientes preguntas:\n",
        "- ¿Cuáles son los 2 mejores modelos?\n",
        "- ¿Cuál de estos modelos es el mejor (de acuerdo al R2 y la F-statistic)?\n",
        "- ¿Cuáles parecen ser los coeficientes más relevantes?"
      ]
    }
  ],
  "metadata": {
    "kernelspec": {
      "display_name": "Python 3",
      "language": "python",
      "name": "python3"
    },
    "language_info": {
      "codemirror_mode": {
        "name": "ipython",
        "version": 3
      },
      "file_extension": ".py",
      "mimetype": "text/x-python",
      "name": "python",
      "nbconvert_exporter": "python",
      "pygments_lexer": "ipython3",
      "version": "3.8.3"
    },
    "colab": {
      "provenance": []
    }
  },
  "nbformat": 4,
  "nbformat_minor": 0
}