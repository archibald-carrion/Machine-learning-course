{
 "cells": [
  {
   "cell_type": "markdown",
   "metadata": {
    "id": "Qhkpq4d_de2W"
   },
   "source": [
    "# Práctica de árboles y ajuste de hiperparámetros"
   ]
  },
  {
   "cell_type": "markdown",
   "metadata": {
    "id": "elWet46edmqS"
   },
   "source": [
    "La siguiente práctica consiste en crear un modelo usando árbol de decisión de los datos indios de diabetes encontrados en Kaggle y utilizados en la práctica anterior."
   ]
  },
  {
   "cell_type": "code",
   "execution_count": 1,
   "metadata": {
    "id": "OxA_EXJaeEO2"
   },
   "outputs": [],
   "source": [
    "# Importación de bibliotecas de funciones\n",
    "import pandas as pd\n",
    "import numpy as np\n",
    "from sklearn.model_selection import train_test_split\n",
    "from sklearn.tree import DecisionTreeClassifier\n",
    "from sklearn.metrics import accuracy_score, classification_report, confusion_matrix\n",
    "from sklearn import tree\n",
    "import matplotlib.pyplot as plt\n",
    "# Etc."
   ]
  },
  {
   "cell_type": "markdown",
   "metadata": {
    "id": "fBN_uZeEescL"
   },
   "source": [
    "## 1. Carga y preprocesamiento de datos"
   ]
  },
  {
   "cell_type": "markdown",
   "metadata": {
    "id": "-TIjlZIRevpj"
   },
   "source": [
    "Haga la carga y las transformaciones necesarias en los datos.  No olvide dividir los datos en entrenamiento y pruebas.  Use una división 85%-15%."
   ]
  },
  {
   "cell_type": "code",
   "execution_count": 3,
   "metadata": {
    "id": "0rYzI1q-fMoa"
   },
   "outputs": [
    {
     "name": "stdout",
     "output_type": "stream",
     "text": [
      "Pregnancies                 0\n",
      "Glucose                     0\n",
      "BloodPressure               0\n",
      "SkinThickness               0\n",
      "Insulin                     0\n",
      "BMI                         0\n",
      "DiabetesPedigreeFunction    0\n",
      "Age                         0\n",
      "Outcome                     0\n",
      "dtype: int64\n",
      "       Pregnancies     Glucose  BloodPressure  SkinThickness     Insulin  \\\n",
      "count   768.000000  768.000000     768.000000     768.000000  768.000000   \n",
      "mean      3.845052  120.894531      69.105469      20.536458   79.799479   \n",
      "std       3.369578   31.972618      19.355807      15.952218  115.244002   \n",
      "min       0.000000    0.000000       0.000000       0.000000    0.000000   \n",
      "25%       1.000000   99.000000      62.000000       0.000000    0.000000   \n",
      "50%       3.000000  117.000000      72.000000      23.000000   30.500000   \n",
      "75%       6.000000  140.250000      80.000000      32.000000  127.250000   \n",
      "max      17.000000  199.000000     122.000000      99.000000  846.000000   \n",
      "\n",
      "              BMI  DiabetesPedigreeFunction         Age     Outcome  \n",
      "count  768.000000                768.000000  768.000000  768.000000  \n",
      "mean    31.992578                  0.471876   33.240885    0.348958  \n",
      "std      7.884160                  0.331329   11.760232    0.476951  \n",
      "min      0.000000                  0.078000   21.000000    0.000000  \n",
      "25%     27.300000                  0.243750   24.000000    0.000000  \n",
      "50%     32.000000                  0.372500   29.000000    0.000000  \n",
      "75%     36.600000                  0.626250   41.000000    1.000000  \n",
      "max     67.100000                  2.420000   81.000000    1.000000  \n"
     ]
    }
   ],
   "source": [
    "df_diabetes = pd.read_csv(\"diabetes.csv\")\n",
    "\n",
    "# Check for missing values\n",
    "print(df_diabetes.isnull().sum())\n",
    "\n",
    "# Drop rows with missing values (if any)\n",
    "df_diabetes.dropna(inplace=True)\n",
    "\n",
    "# Check for duplicate rows and remove them\n",
    "df_diabetes.drop_duplicates(inplace=True)\n",
    "\n",
    "# Reset the index after cleaning\n",
    "df_diabetes.reset_index(drop=True, inplace=True)\n",
    "\n",
    "# Display basic statistics to verify the dataset\n",
    "print(df_diabetes.describe())"
   ]
  },
  {
   "cell_type": "markdown",
   "metadata": {
    "id": "AVoPz6NKcFCo"
   },
   "source": [
    "## 2. Regresión lineal"
   ]
  },
  {
   "cell_type": "markdown",
   "metadata": {
    "id": "0m1DeHnocK62"
   },
   "source": [
    "Copie acá una versión de la regresión lineal para los datos indios de diabetes.  Puede ser la versión de LASSO, Ridge o Elastic Net, pero eso sí escoja el mejor modelo que obtuvo."
   ]
  },
  {
   "cell_type": "code",
   "execution_count": 4,
   "metadata": {
    "id": "G1kRUf_oef1t"
   },
   "outputs": [
    {
     "name": "stdout",
     "output_type": "stream",
     "text": [
      "F-statistic: 52.791\n",
      "Best alpha: 10.0\n",
      "R2 score (train): 0.294\n",
      "Coefficients: {'Glucose': 1.1893686585138454, 'BMI': -0.2773071513419544, 'Age': -0.551721396167091, 'DiabetesPedigreeFunction': 0.0, 'SkinThickness': 3.005348539608807, 'Pregnancies': -0.7700873561806191, 'BloodPressure': -0.12611637821623145}\n"
     ]
    }
   ],
   "source": [
    "from sklearn.linear_model import LassoCV\n",
    "from sklearn.metrics import r2_score\n",
    "\n",
    "feature_cols = [ 'Glucose', 'BMI', 'Age','DiabetesPedigreeFunction','SkinThickness','Pregnancies','BloodPressure']\n",
    "X = df_diabetes[feature_cols] # Características (variables independientes)\n",
    "y = df_diabetes.Insulin # Variable objetivo\n",
    "\n",
    "n = X.shape[0] # used to calculate f statistics\n",
    "\n",
    "alphas = [0.01, 0.1, 1, 10, 100]\n",
    "\n",
    "# LASSO regression with cross-validation\n",
    "lasso_cv = LassoCV(alphas=alphas, cv=5, random_state=42, max_iter=10000)\n",
    "lasso_cv.fit(X, y)\n",
    "\n",
    "# Predictions and R2 score\n",
    "y_pred_lasso = lasso_cv.predict(X)\n",
    "lasso_r2 = r2_score(y, y_pred_lasso)\n",
    "\n",
    "# Calculate F-statistic\n",
    "p_lasso = np.sum(lasso_cv.coef_ != 0)  # number of non-zero predictors\n",
    "if p_lasso > 0:\n",
    "    lasso_f_statistic = (lasso_r2 / p_lasso) / ((1 - lasso_r2) / (n - p_lasso - 1))\n",
    "else:\n",
    "    lasso_f_statistic = np.nan  # avoid division by zero\n",
    "\n",
    "print(f\"F-statistic: {lasso_f_statistic:.3f}\")\n",
    "print(f\"Best alpha: {lasso_cv.alpha_}\")\n",
    "print(f\"R2 score (train): {lasso_r2:.3f}\")\n",
    "print(\"Coefficients:\", dict(zip(X.columns, lasso_cv.coef_)))"
   ]
  },
  {
   "cell_type": "markdown",
   "metadata": {
    "id": "8d2JQgyXfQYQ"
   },
   "source": [
    "## 3. Primer árbol de decisión"
   ]
  },
  {
   "cell_type": "markdown",
   "metadata": {
    "id": "p312YgTngs6x"
   },
   "source": [
    "### 3.1 Generación del modelo"
   ]
  },
  {
   "cell_type": "markdown",
   "metadata": {
    "id": "tC0ylgFKfXaJ"
   },
   "source": [
    "Cree un árbol de decisión con los datos cargados utilizando `DecisionTreeClassifier`. Use los hiperparámetros por defecto de la clase. Obtenga la exactitud, la matriz de confusión y el informe de clasificación con las funciones `accuracy_score`, `confusion_matrix` y `classification_report` respectivamente."
   ]
  },
  {
   "cell_type": "code",
   "execution_count": null,
   "metadata": {
    "id": "83pBDkzJgZE_"
   },
   "outputs": [],
   "source": []
  },
  {
   "cell_type": "markdown",
   "metadata": {
    "id": "UZUGIxdAgb8E"
   },
   "source": [
    "### 3.2 Visualización del modelo (árbol de decisión)"
   ]
  },
  {
   "cell_type": "markdown",
   "metadata": {
    "id": "j0R0M-FEg3u8"
   },
   "source": [
    "Visualice el árbol usando un código similar a este:\n",
    "\n",
    "```python\n",
    "plt.figure(figsize=(15, 10))\n",
    "tree.plot_tree(dt_classifier,\n",
    "               feature_names=X.columns,\n",
    "               class_names=['No Diabetes', 'Diabetes'],  # Ajuste según las etiquetas\n",
    "               filled=True,\n",
    "               rounded=True)\n",
    "plt.savefig('arbol_decision_diabetes.png')\n",
    "plt.show()\n",
    "```\n",
    "\n"
   ]
  },
  {
   "cell_type": "code",
   "execution_count": null,
   "metadata": {
    "id": "PNHURbEpg7xL"
   },
   "outputs": [],
   "source": []
  },
  {
   "cell_type": "markdown",
   "metadata": {
    "id": "9pWQaDf3hOYK"
   },
   "source": [
    "## 4. Afinamiento de hiperparámetros"
   ]
  },
  {
   "cell_type": "markdown",
   "metadata": {
    "id": "yO80EBP9hn0D"
   },
   "source": [
    "Para las siguientes técnicas afine los hiperparámetros del modelo usando los siguientes parámetros de la clase `DecisionTreeClassifier`:\n",
    "\n",
    "\n",
    "*   max_depth: None, 5, 10, 15, 20\n",
    "*   min_samples_split: 2, 5, 10\n",
    "*   min_samples_leaf: 1, 2, 4"
   ]
  },
  {
   "cell_type": "markdown",
   "metadata": {
    "id": "Z1fOpcs_hVPT"
   },
   "source": [
    "### 4.1 *Latin Hypercube Sampling* (LHS)"
   ]
  },
  {
   "cell_type": "markdown",
   "metadata": {
    "id": "bGKpWBfPhlYf"
   },
   "source": [
    "Utilizando el script en [Latin Hypercube Sampling (LHS) - Integrated Computational Materials Engineering (ICME)](https://www.cavs.msstate.edu/icme/DesignOpt/LHS.php) genere un muestreo en el espacio de búsqueda de los hiperparámetros antes mencionados. Genere 90 muestras. Luego utilice dichas muestras para crear un experimento que permita afinar los hiperparámetros."
   ]
  },
  {
   "cell_type": "code",
   "execution_count": null,
   "metadata": {
    "id": "hy9xKUUuhRjD"
   },
   "outputs": [],
   "source": []
  },
  {
   "cell_type": "markdown",
   "metadata": {
    "id": "900c_egxkUSc"
   },
   "source": [
    "#### 4.1.1 Métricas"
   ]
  },
  {
   "cell_type": "markdown",
   "metadata": {
    "id": "3XHge8Zkksyj"
   },
   "source": [
    "Obtenga la exactitud, la matriz de confusión y el informe de clasificación."
   ]
  },
  {
   "cell_type": "code",
   "execution_count": null,
   "metadata": {
    "id": "h0_sG0CQkcSh"
   },
   "outputs": [],
   "source": []
  },
  {
   "cell_type": "markdown",
   "metadata": {
    "id": "5a5gBQGMkaL0"
   },
   "source": [
    "#### 4.1.2 Visualización del árbol"
   ]
  },
  {
   "cell_type": "markdown",
   "metadata": {
    "id": "61drdellk1jV"
   },
   "source": [
    "Visualice el árbol."
   ]
  },
  {
   "cell_type": "code",
   "execution_count": null,
   "metadata": {
    "id": "TbI7PKlakk_e"
   },
   "outputs": [],
   "source": []
  },
  {
   "cell_type": "markdown",
   "metadata": {
    "id": "4xGRYdTqju-h"
   },
   "source": [
    "### 4.2 Optuna"
   ]
  },
  {
   "cell_type": "markdown",
   "metadata": {
    "id": "67eLQaoIj306"
   },
   "source": [
    "Utilizando el marco de trabajo [Optuna](https://optuna.org/) genere ensayos en el espacio de búsqueda de los hiperparámetros antes mencionados. Genere 90 ensayos. Con esas especificaciones genere un experimento que permita afinar los hiperparámetros."
   ]
  },
  {
   "cell_type": "markdown",
   "metadata": {
    "id": "7JaLvZUtlVcM"
   },
   "source": [
    "#### 4.2.1 Métricas"
   ]
  },
  {
   "cell_type": "markdown",
   "metadata": {
    "id": "bYgQFogalVcM"
   },
   "source": [
    "Obtenga la exactitud, la matriz de confusión y el informe de clasificación."
   ]
  },
  {
   "cell_type": "code",
   "execution_count": null,
   "metadata": {
    "id": "ZSBDNettlVcM"
   },
   "outputs": [],
   "source": []
  },
  {
   "cell_type": "markdown",
   "metadata": {
    "id": "6FKPlGkhlVcN"
   },
   "source": [
    "#### 4.2.2 Visualización del árbol"
   ]
  },
  {
   "cell_type": "markdown",
   "metadata": {
    "id": "CUni4RlOlVcN"
   },
   "source": [
    "Visualice el árbol."
   ]
  },
  {
   "cell_type": "code",
   "execution_count": null,
   "metadata": {
    "id": "TCWIWVqTlVcN"
   },
   "outputs": [],
   "source": []
  },
  {
   "cell_type": "markdown",
   "metadata": {
    "id": "v6i2ERvQlbzQ"
   },
   "source": [
    "### 4.3 GridSearchCV de Scikit-Learn"
   ]
  },
  {
   "cell_type": "markdown",
   "metadata": {
    "id": "1Nbe4FS6lyxt"
   },
   "source": [
    "Utilizando la clase GridSearchCV de Scikit-Learn genere una búsqueda en el espacio de antes mencionados."
   ]
  },
  {
   "cell_type": "markdown",
   "metadata": {
    "id": "o3-V1PsumFq_"
   },
   "source": [
    "#### 4.3.1 Métricas"
   ]
  },
  {
   "cell_type": "markdown",
   "metadata": {
    "id": "bxFUxjgFmFq_"
   },
   "source": [
    "Obtenga la exactitud, la matriz de confusión y el informe de clasificación."
   ]
  },
  {
   "cell_type": "code",
   "execution_count": null,
   "metadata": {
    "id": "Kve5g4pomFq_"
   },
   "outputs": [],
   "source": []
  },
  {
   "cell_type": "markdown",
   "metadata": {
    "id": "-8Q4syrhmFq_"
   },
   "source": [
    "#### 4.3.2 Visualización del árbol"
   ]
  },
  {
   "cell_type": "markdown",
   "metadata": {
    "id": "tHPtiyi9mFq_"
   },
   "source": [
    "Visualice el árbol."
   ]
  },
  {
   "cell_type": "code",
   "execution_count": null,
   "metadata": {
    "id": "2UOxku2AmFq_"
   },
   "outputs": [],
   "source": []
  },
  {
   "cell_type": "markdown",
   "metadata": {
    "id": "1rGrBxkCmRBS"
   },
   "source": [
    "## 5 Comparación de los modelos"
   ]
  },
  {
   "cell_type": "markdown",
   "metadata": {
    "id": "PdF5o70OmVtw"
   },
   "source": [
    "Cree una tabla de métricas del mejor modelo de las técnicas de regresión lineal y de árbol de decisión. Compare, analice y haga una interpretación del resultado.."
   ]
  }
 ],
 "metadata": {
  "colab": {
   "provenance": []
  },
  "kernelspec": {
   "display_name": "Python 3",
   "name": "python3"
  },
  "language_info": {
   "codemirror_mode": {
    "name": "ipython",
    "version": 3
   },
   "file_extension": ".py",
   "mimetype": "text/x-python",
   "name": "python",
   "nbconvert_exporter": "python",
   "pygments_lexer": "ipython3",
   "version": "3.10.6"
  }
 },
 "nbformat": 4,
 "nbformat_minor": 0
}
